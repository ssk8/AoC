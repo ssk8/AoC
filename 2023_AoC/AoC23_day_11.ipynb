{
 "cells": [
  {
   "cell_type": "code",
   "execution_count": null,
   "metadata": {},
   "outputs": [],
   "source": [
    "import numpy as np\n",
    "from itertools import combinations\n",
    "#from dataclasses import dataclass, field"
   ]
  },
  {
   "cell_type": "code",
   "execution_count": null,
   "metadata": {},
   "outputs": [],
   "source": [
    "day = \"11\"\n",
    "file = f\"/home/curt/Documents/AoC/2023_AoC/input{day}_test.txt\"\n",
    "#file = f\"/home/curt/Downloads/input{day}.txt\"\n",
    "\n",
    "with open(file, 'r') as f:\n",
    "    data = f.read().split(\"\\n\")[:-1]"
   ]
  },
  {
   "cell_type": "code",
   "execution_count": null,
   "metadata": {},
   "outputs": [],
   "source": [
    "image = np.array([[c for c in l] for l in data])\n",
    "image[:, 0]\n",
    "np.insert(image, 1, \".\", axis=0)\n",
    "for i in range(image.shape[1]-1, -1, -1):\n",
    "    if all(image[:, i]==\".\"):\n",
    "        image = np.insert(image, i, \".\", axis=1)\n",
    "for i in range(image.shape[0]-1, -1, -1):\n",
    "    if all(image[i, :]==\".\"):\n",
    "        image = np.insert(image, i, \".\", axis=0)\n",
    "galaxies = [p for p in zip(*np.where(image=='#'))]\n",
    "combos = combinations(galaxies, 2)\n",
    "\n",
    "shortest_path = []\n",
    "for a, b in combos:\n",
    "    step, a, b = 0, list(a), list(b)\n",
    "    while(a!=b):\n",
    "        if abs(a[0]-b[0]) > abs(a[1]-b[1]):\n",
    "            if a[0]-b[0]<0:\n",
    "                b[0]-=1\n",
    "            else: b[0]+=1\n",
    "        else:\n",
    "            if a[1]-b[1]<0:\n",
    "                b[1]-=1\n",
    "            else: b[1]+=1\n",
    "        step+=1\n",
    "    shortest_path.append(step)\n",
    "sum(shortest_path)"
   ]
  },
  {
   "cell_type": "markdown",
   "metadata": {},
   "source": [
    "# Part Two"
   ]
  },
  {
   "cell_type": "code",
   "execution_count": null,
   "metadata": {},
   "outputs": [],
   "source": [
    "w=9#99999\n",
    "\n",
    "image = np.array([[c for c in l] for l in data])\n",
    "for i in range(image.shape[1]):\n",
    "    if not any(image[:, i]==\"#\"):\n",
    "        image[:, i]=\"x\"\n",
    "for i in range(image.shape[0]):\n",
    "    if not any(image[i, :]==\"#\"):\n",
    "        image[i, :]=\"x\"\n",
    "\n",
    "shortest_path = 0\n",
    "\n",
    "for a, b in combinations([p for p in zip(*np.where(image=='#'))], 2):\n",
    "    a0, b0 = sorted([a[0], b[0]])\n",
    "    a1, b1 = sorted([a[1], b[1]])\n",
    "    shortest_path+=b0-a0+b1-a1 + (image[0, a1:b1]==\"x\").sum()*w + (image[a0:b0, 0]==\"x\").sum()*w\n",
    "\n",
    "shortest_path"
   ]
  }
 ],
 "metadata": {
  "kernelspec": {
   "display_name": "Python 3 (ipykernel)",
   "language": "python",
   "name": "python3"
  },
  "vscode": {
   "interpreter": {
    "hash": "767d51c1340bd893661ea55ea3124f6de3c7a262a8b4abca0554b478b1e2ff90"
   }
  }
 },
 "nbformat": 4,
 "nbformat_minor": 4
}
