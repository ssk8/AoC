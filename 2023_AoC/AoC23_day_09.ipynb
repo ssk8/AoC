{
 "cells": [
  {
   "cell_type": "code",
   "execution_count": null,
   "metadata": {},
   "outputs": [],
   "source": [
    "import numpy as np\n",
    "#from dataclasses import dataclass, field"
   ]
  },
  {
   "cell_type": "code",
   "execution_count": null,
   "metadata": {},
   "outputs": [],
   "source": [
    "day = \"09\"\n",
    "file = f\"/home/curt/Documents/AoC/2023_AoC/input{day}_test.txt\"\n",
    "file = f\"/home/curt/Downloads/input{day}.txt\"\n",
    "\n",
    "with open(file, 'r') as f:\n",
    "    data = f.read().split(\"\\n\")[:-1]"
   ]
  },
  {
   "cell_type": "code",
   "execution_count": null,
   "metadata": {},
   "outputs": [],
   "source": [
    "reports = [np.array([int(n) for n in l.split(\" \")]) for l in data]\n",
    "\n",
    "nv=0\n",
    "\n",
    "for report in reports:\n",
    "    cur = [report]\n",
    "    while cur[-1].any():\n",
    "        cur.append(np.diff(cur[-1]))\n",
    "    for i in range(len(cur)-2, 0, -1):\n",
    "        cur[i-1] = np.append(cur[i-1], cur[i][-1] + cur[i-1][-1])\n",
    "    nv+=cur[0][-1]\n",
    "    \n",
    "nv\n"
   ]
  },
  {
   "cell_type": "markdown",
   "metadata": {},
   "source": [
    "# Part Two"
   ]
  },
  {
   "cell_type": "code",
   "execution_count": null,
   "metadata": {},
   "outputs": [],
   "source": [
    "reports = [np.array([int(n) for n in l.split(\" \")]) for l in data]\n",
    "\n",
    "nv=0\n",
    "\n",
    "for report in reports:\n",
    "    cur = [report]\n",
    "    while cur[-1].any():\n",
    "        cur.append(np.diff(cur[-1]))\n",
    "    for i in range(len(cur)-2, 0, -1):\n",
    "        cur[i-1] = np.append(cur[i-1][0]-cur[i][0], cur[i-1])\n",
    "    nv+=cur[0][0]\n",
    "nv"
   ]
  }
 ],
 "metadata": {
  "kernelspec": {
   "display_name": "Python 3 (ipykernel)",
   "language": "python",
   "name": "python3"
  },
  "language_info": {
   "codemirror_mode": {
    "name": "ipython",
    "version": 3
   },
   "file_extension": ".py",
   "mimetype": "text/x-python",
   "name": "python",
   "nbconvert_exporter": "python",
   "pygments_lexer": "ipython3",
   "version": "3.11.6"
  },
  "vscode": {
   "interpreter": {
    "hash": "767d51c1340bd893661ea55ea3124f6de3c7a262a8b4abca0554b478b1e2ff90"
   }
  }
 },
 "nbformat": 4,
 "nbformat_minor": 4
}
