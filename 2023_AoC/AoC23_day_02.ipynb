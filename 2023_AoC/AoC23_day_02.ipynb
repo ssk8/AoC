{
 "cells": [
  {
   "cell_type": "code",
   "execution_count": null,
   "metadata": {},
   "outputs": [],
   "source": [
    "day = \"02\"\n",
    "file = f\"/home/curt/Documents/AoC/2023_AoC/input{day}_test.txt\"\n",
    "file = f\"/home/curt/Downloads/input{day}.txt\"\n",
    "\n",
    "with open(file, 'r') as f:\n",
    "    data = f.read().split(\"\\n\")[:-1]"
   ]
  },
  {
   "cell_type": "code",
   "execution_count": null,
   "metadata": {},
   "outputs": [],
   "source": [
    "from dataclasses import dataclass, field"
   ]
  },
  {
   "cell_type": "code",
   "execution_count": null,
   "metadata": {},
   "outputs": [],
   "source": [
    "@dataclass\n",
    "class Game:\n",
    "    game: int\n",
    "    blue: list[int]\n",
    "    red: list[int]\n",
    "    green: list[int]\n",
    "\n",
    "games = []\n",
    "for line in data:\n",
    "    id, sets = line.split(\": \")\n",
    "    current = Game(int(\"\".join(c for c in id if c.isnumeric())), [], [], []) \n",
    "    for cur_set in sets.split(\"; \"):\n",
    "        pull = [c.split(\" \") for c in cur_set.split(\", \")]\n",
    "        pull = {k:int(v) for v, k in pull}\n",
    "        current.red.append(pull.get(\"red\", 0))\n",
    "        current.green.append(pull.get(\"green\", 0))\n",
    "        current.blue.append(pull.get(\"blue\", 0))\n",
    "    games.append(current)\n",
    "\n",
    "total = 0\n",
    "for game in games:\n",
    "    if max(game.red)<=12 and max(game.green)<=13 and max(game.blue)<=14:\n",
    "        total+=game.game\n",
    "\n",
    "total"
   ]
  },
  {
   "cell_type": "markdown",
   "metadata": {},
   "source": [
    "# Part Two"
   ]
  },
  {
   "cell_type": "code",
   "execution_count": null,
   "metadata": {},
   "outputs": [],
   "source": [
    "sum(max(g.red)*max(g.green)*max(g.blue) for g in games)"
   ]
  }
 ],
 "metadata": {
  "kernelspec": {
   "display_name": "Python 3 (ipykernel)",
   "language": "python",
   "name": "python3"
  },
  "language_info": {
   "codemirror_mode": {
    "name": "ipython",
    "version": 3
   },
   "file_extension": ".py",
   "mimetype": "text/x-python",
   "name": "python",
   "nbconvert_exporter": "python",
   "pygments_lexer": "ipython3",
   "version": "3.11.6"
  },
  "vscode": {
   "interpreter": {
    "hash": "767d51c1340bd893661ea55ea3124f6de3c7a262a8b4abca0554b478b1e2ff90"
   }
  }
 },
 "nbformat": 4,
 "nbformat_minor": 4
}
