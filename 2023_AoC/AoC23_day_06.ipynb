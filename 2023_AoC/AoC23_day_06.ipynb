{
 "cells": [
  {
   "cell_type": "code",
   "execution_count": null,
   "metadata": {},
   "outputs": [],
   "source": [
    "#import numpy as np\n",
    "#from dataclasses import dataclass, field\n",
    "import math"
   ]
  },
  {
   "cell_type": "code",
   "execution_count": null,
   "metadata": {},
   "outputs": [],
   "source": [
    "day = \"06\"\n",
    "file = f\"/home/curt/Documents/AoC/2023_AoC/input{day}_test.txt\"\n",
    "file = f\"/home/curt/Downloads/input{day}.txt\"\n",
    "\n",
    "with open(file, 'r') as f:\n",
    "    data = f.read().split(\"\\n\")[:-1]\n",
    "\n",
    "for line in data:\n",
    "    print(line)\n",
    "\n",
    "time, dist = [[int(t) for t in line.split(\": \")[1].split(\" \") if t] for line in data]\n",
    "races = [p for p in zip(time, dist)]\n",
    "print(races)"
   ]
  },
  {
   "cell_type": "code",
   "execution_count": null,
   "metadata": {},
   "outputs": [],
   "source": [
    "ways = []\n",
    "\n",
    "for t, d in races:\n",
    "    short = math.ceil((t - (t**2 - 4*d)**0.5)/2 + .00001)\n",
    "    long = math.floor((t + (t**2 - 4*d)**0.5)/2 - .00001)\n",
    "    ways.append(long-short+1)\n",
    "\n",
    "math.prod(ways)"
   ]
  },
  {
   "cell_type": "markdown",
   "metadata": {},
   "source": [
    "# Part Two"
   ]
  },
  {
   "cell_type": "code",
   "execution_count": null,
   "metadata": {},
   "outputs": [],
   "source": [
    "day = \"06\"\n",
    "file = f\"/home/curt/Documents/AoC/2023_AoC/input{day}_test.txt\"\n",
    "file = f\"/home/curt/Downloads/input{day}.txt\"\n",
    "\n",
    "with open(file, 'r') as f:\n",
    "    data = f.read().split(\"\\n\")[:-1]\n",
    "\n",
    "for line in data:\n",
    "    print(line)\n",
    "\n",
    "t, d = [int(line.split(\": \")[1].replace(' ', '')) for line in data]\n",
    "\n",
    "short = math.ceil((t - (t**2 - 4*d)**0.5)/2 + .00001)\n",
    "long = math.floor((t + (t**2 - 4*d)**0.5)/2 - .00001)\n",
    "(long-short+1)"
   ]
  }
 ],
 "metadata": {
  "kernelspec": {
   "display_name": "Python 3 (ipykernel)",
   "language": "python",
   "name": "python3"
  },
  "vscode": {
   "interpreter": {
    "hash": "767d51c1340bd893661ea55ea3124f6de3c7a262a8b4abca0554b478b1e2ff90"
   }
  }
 },
 "nbformat": 4,
 "nbformat_minor": 4
}
