{
 "cells": [
  {
   "cell_type": "code",
   "execution_count": null,
   "metadata": {},
   "outputs": [],
   "source": [
    "#import numpy as np\n",
    "from dataclasses import dataclass, field\n",
    "from collections import Counter"
   ]
  },
  {
   "cell_type": "code",
   "execution_count": null,
   "metadata": {},
   "outputs": [],
   "source": [
    "day = \"07\"\n",
    "file = f\"/home/curt/Documents/AoC/2023_AoC/input{day}_test.txt\"\n",
    "file = f\"/home/curt/Downloads/input{day}.txt\"\n",
    "\n",
    "with open(file, 'r') as f:\n",
    "    data = f.read().split(\"\\n\")[:-1]"
   ]
  },
  {
   "cell_type": "code",
   "execution_count": null,
   "metadata": {},
   "outputs": [],
   "source": [
    "card_strength = {c:s for s, c in enumerate(reversed(\"A, K, Q, J, T, 9, 8, 7, 6, 5, 4, 3, 2\".split(', ')))}\n",
    "\n",
    "@dataclass\n",
    "class Hand:\n",
    "    cards: str\n",
    "    bid: str\n",
    "\n",
    "    @property\n",
    "    def hand_type(self):\n",
    "        match tuple({c[1] for c in Counter(self.cards).most_common(2)}):\n",
    "            case (5, ): return 6\n",
    "            case (1, 4): return 5\n",
    "            case (2, 3): return 4\n",
    "            case (1, 3): return 3\n",
    "            case (2, ): return 2\n",
    "            case (1, 2): return 1\n",
    "            case (1, ): return 0\n",
    "\n",
    "    def __lt__(self, other):\n",
    "        if self.hand_type == other.hand_type:\n",
    "            for pair in list(zip(self.cards, other.cards)):\n",
    "                s, o = [card_strength[c] for c in pair]\n",
    "                if s!=o:\n",
    "                    return s < o\n",
    "        else: return self.hand_type < other.hand_type\n",
    "        \n",
    "\n",
    "hands = [Hand(*line.split(\" \")) for line in data]\n",
    "\n",
    "sum((n*int(h.bid)) for n, h in enumerate(sorted(hands), 1))"
   ]
  },
  {
   "cell_type": "markdown",
   "metadata": {},
   "source": [
    "# Part Two"
   ]
  },
  {
   "cell_type": "code",
   "execution_count": null,
   "metadata": {},
   "outputs": [],
   "source": [
    "card_strength = {c:s for s, c in enumerate(reversed(\"A, K, Q, T, 9, 8, 7, 6, 5, 4, 3, 2, J\".split(', ')))}\n",
    "\n",
    "@dataclass\n",
    "class Hand:\n",
    "    cards: str\n",
    "    bid: str\n",
    "\n",
    "    @property\n",
    "    def hand_type(self):\n",
    "        count = Counter(self.cards)\n",
    "        if (most_common := count.most_common(1)[0][0]) != \"J\":\n",
    "            count[most_common]+=count[\"J\"]\n",
    "            del count[\"J\"]\n",
    "        elif len(count.most_common()) > 1:\n",
    "            count[count.most_common()[1][0]] += count[\"J\"]\n",
    "            del count[\"J\"]\n",
    "\n",
    "        match tuple({c[1] for c in count.most_common(2)}):\n",
    "            case (5, ): return 6\n",
    "            case (1, 4): return 5\n",
    "            case (2, 3): return 4\n",
    "            case (1, 3): return 3\n",
    "            case (2, ): return 2\n",
    "            case (1, 2): return 1\n",
    "            case (1, ): return 0\n",
    "\n",
    "    def __lt__(self, other):\n",
    "        if self.hand_type == other.hand_type:\n",
    "            for pair in list(zip(self.cards, other.cards)):\n",
    "                s, o = [card_strength[c] for c in pair]\n",
    "                if s!=o:\n",
    "                    return s < o\n",
    "        else: return self.hand_type < other.hand_type\n",
    "        \n",
    "\n",
    "hands = [Hand(*line.split(\" \")) for line in data]\n",
    "\n",
    "sum((n*int(h.bid)) for n, h in enumerate(sorted(hands), 1))"
   ]
  }
 ],
 "metadata": {
  "kernelspec": {
   "display_name": "Python 3 (ipykernel)",
   "language": "python",
   "name": "python3"
  },
  "language_info": {
   "codemirror_mode": {
    "name": "ipython",
    "version": 3
   },
   "file_extension": ".py",
   "mimetype": "text/x-python",
   "name": "python",
   "nbconvert_exporter": "python",
   "pygments_lexer": "ipython3",
   "version": "3.11.6"
  },
  "vscode": {
   "interpreter": {
    "hash": "767d51c1340bd893661ea55ea3124f6de3c7a262a8b4abca0554b478b1e2ff90"
   }
  }
 },
 "nbformat": 4,
 "nbformat_minor": 4
}
