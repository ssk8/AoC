{
 "cells": [
  {
   "cell_type": "code",
   "execution_count": null,
   "metadata": {},
   "outputs": [],
   "source": [
    "#import numpy as np\n",
    "from dataclasses import dataclass, field"
   ]
  },
  {
   "cell_type": "code",
   "execution_count": null,
   "metadata": {},
   "outputs": [],
   "source": [
    "day = \"04\"\n",
    "file = f\"/home/curt/Documents/AoC/2023_AoC/input{day}_test.txt\"\n",
    "file = f\"/home/curt/Downloads/input{day}.txt\"\n",
    "\n",
    "with open(file, 'r') as f:\n",
    "    data = f.read().split(\"\\n\")[:-1]\n",
    "\n",
    "print(len(data))"
   ]
  },
  {
   "cell_type": "code",
   "execution_count": null,
   "metadata": {},
   "outputs": [],
   "source": [
    "@dataclass\n",
    "class Card:\n",
    "    win: set[int]\n",
    "    you: set[int]\n",
    "\n",
    "    def points(self) ->int:\n",
    "        return {0:0,1:1,2:2,3:4,4:8,5:16,6:32,7:64,8:128,9:256,10:512}[len(self.win&self.you)]\n",
    "\n",
    "cards = []\n",
    "\n",
    "for line in data:\n",
    "    win, you = line.split(\" | \")\n",
    "    win = {int(x) for x in win.split(\": \")[1].split(\" \") if x}\n",
    "    you = {int(x) for x in you.split(\" \") if x}\n",
    "    cards.append(Card(win, you))\n",
    "\n",
    "sum(card.points() for card in cards)\n"
   ]
  },
  {
   "cell_type": "markdown",
   "metadata": {},
   "source": [
    "# Part Two"
   ]
  },
  {
   "cell_type": "code",
   "execution_count": null,
   "metadata": {},
   "outputs": [],
   "source": [
    "@dataclass\n",
    "class Card:\n",
    "    number: int\n",
    "    win: set[int]\n",
    "    you: set[int]\n",
    "    copies: int = 1\n",
    "\n",
    "    def matches(self) ->int:\n",
    "        return len(self.win&self.you)\n",
    "    \n",
    "    def wins(self) -> set[int]:\n",
    "        return {self.number+1+n for n in range(self.matches())}\n",
    "\n",
    "cards = {}\n",
    "\n",
    "for line in data:\n",
    "    win, you = line.split(\" | \")\n",
    "    number, win = win.split(\": \")\n",
    "    number = int(number[5:])\n",
    "    win = {int(x) for x in win.split(\" \") if x}\n",
    "    you = {int(x) for x in you.split(\" \") if x}\n",
    "    current = Card(number, win, you)\n",
    "    cards[number] = current\n",
    "\n",
    "for card in cards.values():\n",
    "    for win in card.wins():\n",
    "        cards[win].copies+=card.copies\n",
    "\n",
    "sum(card.copies for card in cards.values())"
   ]
  }
 ],
 "metadata": {
  "kernelspec": {
   "display_name": "Python 3 (ipykernel)",
   "language": "python",
   "name": "python3"
  },
  "language_info": {
   "codemirror_mode": {
    "name": "ipython",
    "version": 3
   },
   "file_extension": ".py",
   "mimetype": "text/x-python",
   "name": "python",
   "nbconvert_exporter": "python",
   "pygments_lexer": "ipython3",
   "version": "3.11.6"
  },
  "vscode": {
   "interpreter": {
    "hash": "767d51c1340bd893661ea55ea3124f6de3c7a262a8b4abca0554b478b1e2ff90"
   }
  }
 },
 "nbformat": 4,
 "nbformat_minor": 4
}
