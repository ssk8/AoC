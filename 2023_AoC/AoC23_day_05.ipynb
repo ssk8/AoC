{
 "cells": [
  {
   "cell_type": "code",
   "execution_count": null,
   "metadata": {},
   "outputs": [],
   "source": [
    "#import numpy as np\n",
    "from dataclasses import dataclass, field"
   ]
  },
  {
   "cell_type": "code",
   "execution_count": null,
   "metadata": {},
   "outputs": [],
   "source": [
    "day = \"05\"\n",
    "file = f\"/home/curt/Documents/AoC/2023_AoC/input{day}_test.txt\"\n",
    "file = f\"/home/curt/Downloads/input{day}.txt\"\n",
    "\n",
    "with open(file, 'r') as f:\n",
    "    data = f.read().split(\"\\n\")[:-1]\n",
    "\n",
    "seeds = [int(s) for s in data[0].split(': ')[1].split(\" \")]\n",
    "\n",
    "@dataclass\n",
    "class Map:\n",
    "    destination_range_start: int\n",
    "    source_range_start: int\n",
    "    range_length: int\n",
    "\n",
    "    @property\n",
    "    def range(self):\n",
    "        return range(self.source_range_start, self.source_range_start+self.range_length)\n",
    "    \n",
    "    @property\n",
    "    def offset(self):\n",
    "        return  self.destination_range_start - self.source_range_start\n",
    "\n",
    "\n",
    "almanac = []\n",
    "\n",
    "for line in data[1:]:\n",
    "    if \":\" in line:\n",
    "        almanac.append([])\n",
    "    elif line:\n",
    "        current = [int(x) for x in line.split(\" \")]\n",
    "        almanac[-1].append(Map(*current))\n"
   ]
  },
  {
   "cell_type": "code",
   "execution_count": null,
   "metadata": {},
   "outputs": [],
   "source": [
    "def convert(source: int, catagory: list[Map]) -> int:\n",
    "    for map in catagory:\n",
    "        if source in map.range:\n",
    "            return source+map.offset\n",
    "    return source\n",
    "\n",
    "locations = []\n",
    "\n",
    "for seed in seeds:\n",
    "    source = seed\n",
    "    for catagory in almanac:\n",
    "        source = convert(source, catagory)\n",
    "    locations.append(source)\n",
    "\n",
    "min(locations)"
   ]
  },
  {
   "cell_type": "markdown",
   "metadata": {},
   "source": [
    "# Part Two"
   ]
  },
  {
   "cell_type": "code",
   "execution_count": null,
   "metadata": {},
   "outputs": [],
   "source": [
    "'''\n",
    "I cheated:\n",
    "https://github.com/hyper-neutrino/advent-of-code/blob/main/2023/day05p2.py\n",
    "\n",
    "'''\n",
    "\n",
    "\n",
    "with open(file, 'r') as f:\n",
    "    inputs, *blocks = open(file).read().split(\"\\n\\n\")\n",
    "\n",
    "inputs = list(map(int, inputs.split(\":\")[1].split()))\n",
    "\n",
    "seeds = []\n",
    "\n",
    "for i in range(0, len(inputs), 2):\n",
    "    seeds.append((inputs[i], inputs[i] + inputs[i + 1]))\n",
    "\n",
    "for block in blocks:\n",
    "    ranges = []\n",
    "    for line in block.splitlines()[1:]:\n",
    "        ranges.append(list(map(int, line.split())))\n",
    "    new = []\n",
    "    while len(seeds) > 0:\n",
    "        s, e = seeds.pop()\n",
    "        for a, b, c in ranges:\n",
    "            os = max(s, b)\n",
    "            oe = min(e, b + c)\n",
    "            if os < oe:\n",
    "                new.append((os - b + a, oe - b + a))\n",
    "                if os > s:\n",
    "                    seeds.append((s, os))\n",
    "                if e > oe:\n",
    "                    seeds.append((oe, e))\n",
    "                break\n",
    "        else:\n",
    "            new.append((s, e))\n",
    "    seeds = new\n",
    "\n",
    "print(min(seeds)[0])"
   ]
  }
 ],
 "metadata": {
  "kernelspec": {
   "display_name": "Python 3 (ipykernel)",
   "language": "python",
   "name": "python3"
  },
  "language_info": {
   "codemirror_mode": {
    "name": "ipython",
    "version": 3
   },
   "file_extension": ".py",
   "mimetype": "text/x-python",
   "name": "python",
   "nbconvert_exporter": "python",
   "pygments_lexer": "ipython3",
   "version": "3.11.6"
  },
  "vscode": {
   "interpreter": {
    "hash": "767d51c1340bd893661ea55ea3124f6de3c7a262a8b4abca0554b478b1e2ff90"
   }
  }
 },
 "nbformat": 4,
 "nbformat_minor": 4
}
