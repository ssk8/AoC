{
 "cells": [
  {
   "cell_type": "code",
   "execution_count": null,
   "metadata": {},
   "outputs": [],
   "source": [
    "import numpy as np\n",
    "from dataclasses import dataclass, field"
   ]
  },
  {
   "cell_type": "code",
   "execution_count": null,
   "metadata": {},
   "outputs": [],
   "source": [
    "day = \"03\"\n",
    "file = f\"/home/curt/Documents/AoC/2023_AoC/input{day}_test.txt\"\n",
    "file = f\"/home/curt/Downloads/input{day}.txt\"\n",
    "\n",
    "with open(file, 'r') as f:\n",
    "    data = f.read().split(\"\\n\")[:-1]"
   ]
  },
  {
   "cell_type": "code",
   "execution_count": null,
   "metadata": {},
   "outputs": [],
   "source": [
    "def special(c: str) -> bool:\n",
    "      return c!='.' and not c.isnumeric()\n",
    "\n",
    "\n",
    "@dataclass\n",
    "class Number:\n",
    "      members: list\n",
    "      is_part: bool = field(init=False)\n",
    "      number: int = field(init=False)\n",
    "\n",
    "schematic = np.array([[c  for c in d] for d in data])\n",
    "rows, colums = schematic.shape\n",
    "\n",
    "numbers, current = [], []\n",
    "for r, row in enumerate(schematic):\n",
    "    for c, char in enumerate(row):\n",
    "        if char.isnumeric(): current.append((r,c))\n",
    "        else:\n",
    "            if current:\n",
    "                numbers.append(Number(current))\n",
    "                current = []\n",
    "    if current:\n",
    "                numbers.append(Number(current))\n",
    "                current = []\n",
    "\n",
    "for number in numbers:\n",
    "      number.is_part = False\n",
    "      for member in number.members:\n",
    "            for neighbor_off in ((1, 0), (-1, 0), (0, 1), (0, -1), (1, 1), (1, -1), (-1, 1), (-1, -1)):\n",
    "                  neighbor = [sum(x) for x in zip(member, neighbor_off)]\n",
    "                  if -1<neighbor[0]<rows and -1<neighbor[1]<colums:\n",
    "                    if special(schematic[*neighbor]):\n",
    "                        number.is_part = True\n",
    "      number.number = int(\"\".join(schematic[x] for x in number.members))\n",
    "\n",
    "sum(n.number for n in numbers if n.is_part)"
   ]
  },
  {
   "cell_type": "markdown",
   "metadata": {},
   "source": [
    "# Part Two"
   ]
  },
  {
   "cell_type": "code",
   "execution_count": null,
   "metadata": {},
   "outputs": [],
   "source": [
    "@dataclass\n",
    "class Number:\n",
    "      members: list\n",
    "      asterisks: list\n",
    "      number: int = field(init=False)\n",
    "\n",
    "schematic = np.array([[c  for c in d] for d in data])\n",
    "rows, colums = schematic.shape\n",
    "\n",
    "numbers, current = [], []\n",
    "for r, row in enumerate(schematic):\n",
    "    for c, char in enumerate(row):\n",
    "        if char.isnumeric(): current.append((r,c))\n",
    "        else:\n",
    "            if current:\n",
    "                numbers.append(Number(current, []))\n",
    "                current = []\n",
    "    if current:\n",
    "                numbers.append(Number(current, []))\n",
    "                current = []\n",
    "\n",
    "for number in numbers:\n",
    "      for member in number.members:\n",
    "            for neighbor_off in ((1, 0), (-1, 0), (0, 1), (0, -1), (1, 1), (1, -1), (-1, 1), (-1, -1)):\n",
    "                  neighbor = [sum(x) for x in zip(member, neighbor_off)]\n",
    "                  if -1<neighbor[0]<rows and -1<neighbor[1]<colums:\n",
    "                    if schematic[*neighbor]==\"*\":\n",
    "                        number.asterisks.append(tuple(neighbor))\n",
    "      number.number = int(\"\".join(schematic[x] for x in number.members))\n",
    "\n",
    "gears = []\n",
    "for asterisk in {a for n in numbers if n.asterisks for a in n.asterisks}:\n",
    "    current = []\n",
    "    for number in numbers:\n",
    "         if asterisk in number.asterisks: current.append(number.number)\n",
    "    gears.append(current)\n",
    "sum(g[0]*g[1] for g in gears if len(g)==2)"
   ]
  }
 ],
 "metadata": {
  "kernelspec": {
   "display_name": "Python 3 (ipykernel)",
   "language": "python",
   "name": "python3"
  },
  "vscode": {
   "interpreter": {
    "hash": "767d51c1340bd893661ea55ea3124f6de3c7a262a8b4abca0554b478b1e2ff90"
   }
  }
 },
 "nbformat": 4,
 "nbformat_minor": 4
}
