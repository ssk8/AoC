{
 "cells": [
  {
   "cell_type": "code",
   "execution_count": null,
   "metadata": {},
   "outputs": [],
   "source": [
    "#import numpy as np\n",
    "#from dataclasses import dataclass, field\n",
    "from itertools import cycle\n",
    "import math"
   ]
  },
  {
   "cell_type": "code",
   "execution_count": null,
   "metadata": {},
   "outputs": [],
   "source": [
    "day = \"08\"\n",
    "file = f\"/home/curt/Documents/AoC/2023_AoC/input{day}_test3.txt\"\n",
    "file = f\"/home/curt/Downloads/input{day}.txt\"\n",
    "\n",
    "with open(file, 'r') as f:\n",
    "    data = f.read().split(\"\\n\")[:-1]\n",
    "\n",
    "directions = cycle(data[0])\n",
    "map_data = data[2:]\n",
    "\n",
    "map = dict()\n",
    "for line in map_data:\n",
    "    node, lr = line.split(\" = \")\n",
    "    l, r = lr[1:-1].split(\", \")\n",
    "    map[node] = {\"L\": l, \"R\": r}\n",
    "\n",
    "print(data[0])\n",
    "map"
   ]
  },
  {
   "cell_type": "code",
   "execution_count": null,
   "metadata": {},
   "outputs": [],
   "source": [
    "node, moves = \"AAA\", 0\n",
    "\n",
    "while node != \"ZZZ\":\n",
    "    node = map[node][next(directions)]\n",
    "    moves+=1\n",
    "\n",
    "moves"
   ]
  },
  {
   "cell_type": "markdown",
   "metadata": {},
   "source": [
    "# Part Two"
   ]
  },
  {
   "cell_type": "code",
   "execution_count": null,
   "metadata": {},
   "outputs": [],
   "source": [
    "day = \"08\"\n",
    "file = f\"/home/curt/Documents/AoC/2023_AoC/input{day}_test3.txt\"\n",
    "file = f\"/home/curt/Downloads/input{day}.txt\"\n",
    "\n",
    "with open(file, 'r') as f:\n",
    "    data = f.read().split(\"\\n\")[:-1]\n",
    "\n",
    "directions = cycle(data[0])\n",
    "map_data = data[2:]\n",
    "\n",
    "map = dict()\n",
    "for line in map_data:\n",
    "    node, lr = line.split(\" = \")\n",
    "    l, r = lr[1:-1].split(\", \")\n",
    "    map[node] = {\"L\": l, \"R\": r}\n",
    "\n",
    "nodes = [n for n in map.keys() if n[2]=='A']\n",
    "moves_lists = [[] for _ in nodes]\n",
    "\n",
    "for move in range(100000):\n",
    "    direction = next(directions)\n",
    "    for i, node in enumerate(nodes):\n",
    "        nodes[i] = map[node][direction]\n",
    "        if nodes[i][-1]==\"Z\":\n",
    "            moves_lists[i].append(move)\n",
    "    if len(moves_lists[0]) > 3: break\n",
    "\n",
    "intervals = [moves_lists[i][2]-moves_lists[i][1] for i, moves in enumerate(moves_lists)]\n",
    "\n",
    "math.lcm(*intervals)\n"
   ]
  }
 ],
 "metadata": {
  "kernelspec": {
   "display_name": "Python 3 (ipykernel)",
   "language": "python",
   "name": "python3"
  },
  "vscode": {
   "interpreter": {
    "hash": "767d51c1340bd893661ea55ea3124f6de3c7a262a8b4abca0554b478b1e2ff90"
   }
  }
 },
 "nbformat": 4,
 "nbformat_minor": 4
}
