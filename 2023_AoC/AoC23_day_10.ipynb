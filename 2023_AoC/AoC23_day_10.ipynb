{
 "cells": [
  {
   "cell_type": "code",
   "execution_count": null,
   "metadata": {},
   "outputs": [],
   "source": [
    "import numpy as np\n",
    "from dataclasses import dataclass, field"
   ]
  },
  {
   "cell_type": "code",
   "execution_count": null,
   "metadata": {},
   "outputs": [],
   "source": [
    "day = \"10\"\n",
    "file = f\"/home/curt/Documents/AoC/2023_AoC/input{day}_test.txt\"\n",
    "file = f\"/home/curt/Documents/AoC/2023_AoC/input{day}_test3.txt\"\n",
    "#file = f\"/home/curt/Downloads/input{day}.txt\"\n",
    "\n",
    "with open(file, 'r') as f:\n",
    "    data = f.read().split(\"\\n\")[:-1]\n",
    "\n",
    "sketch = np.array([[c for c in l] for l in data])\n",
    "len(sketch)*len(sketch[0])\n",
    "sketch"
   ]
  },
  {
   "cell_type": "code",
   "execution_count": null,
   "metadata": {},
   "outputs": [],
   "source": [
    "tile_data = [\n",
    "    [\"|\", (1,0), (-1,0), 2],\n",
    "    [\"-\", (0,-1), (0,1), 0],\n",
    "    [\"L\", (0,1), (-1,0), 1],\n",
    "    [\"J\", (-1,0), (0, -1), 1],\n",
    "    [\"F\", (1,0), (0,1), 1],\n",
    "    [\"7\", (0,-1), (1,0), 1]\n",
    "]\n",
    "\n",
    "def go_to(start: tuple, direction: tuple)->tuple:\n",
    "    return (start[0]+direction[0], start[1]+direction[1])\n",
    "\n",
    "@dataclass\n",
    "class Tile:\n",
    "    type: str\n",
    "    p1: tuple\n",
    "    p2: tuple\n",
    "    wall_value: int\n",
    "\n",
    "    def next_pos(self, last, current):\n",
    "        direction = np.array(last) - np.array(current)\n",
    "        if direction[0][0]==self.p1[0] and direction[1][0]==self.p1[1]:\n",
    "            return go_to(current, self.p2)\n",
    "        elif direction[0][0]==self.p2[0] and direction[1][0]==self.p2[1]:\n",
    "            return go_to(current, self.p1)\n",
    "\n",
    "tiles = {d[0]: Tile(*d) for d in tile_data}\n",
    "path = [np.where(sketch == 'S')]\n",
    "\n",
    "for direction in ((0, -1), (-1, 0), (0,1), (1, 0), ):\n",
    "    next_pos = go_to(path[-1], direction)\n",
    "    if n_pos_tile := tiles.get(sketch[next_pos][0]):\n",
    "        if n_pos_tile.next_pos(path[-1], next_pos):\n",
    "            path.append(next_pos)\n",
    "            tiles['S'] = n_pos_tile\n",
    "            break\n",
    "\n",
    "while not sketch[path[-1]][0]=='S':\n",
    "    current = tiles.get(str(sketch[path[-1]][0]))\n",
    "    path.append(current.next_pos(path[-2], path[-1]))\n",
    "\n",
    "#print(sketch)\n",
    "#print([sketch[p][0] for p in path])\n",
    "(len(path)-1)/2\n"
   ]
  },
  {
   "cell_type": "markdown",
   "metadata": {},
   "source": [
    "# Part Two"
   ]
  },
  {
   "cell_type": "code",
   "execution_count": null,
   "metadata": {},
   "outputs": [],
   "source": [
    "for line in sketch:\n",
    "    print(line)\n",
    "print(tiles[\"S\"])"
   ]
  },
  {
   "cell_type": "code",
   "execution_count": null,
   "metadata": {},
   "outputs": [],
   "source": [
    "simple_sketch = np.zeros(sketch.shape)\n",
    "\n",
    "for step in path:\n",
    "    if tile:=tiles.get(sketch[step][0]):\n",
    "        simple_sketch[step] = tile.wall_value\n",
    "\n",
    "print(simple_sketch)\n",
    "total = 0\n",
    "for line in simple_sketch:\n",
    "    inside=0\n",
    "    for c in line:\n",
    "        if c and inside<2:\n",
    "            inside+=c\n",
    "        else: total+=inside\n",
    "        print(total,end=\"\")\n",
    "    print()\n",
    "\n",
    "total"
   ]
  }
 ],
 "metadata": {
  "kernelspec": {
   "display_name": "Python 3 (ipykernel)",
   "language": "python",
   "name": "python3"
  },
  "vscode": {
   "interpreter": {
    "hash": "767d51c1340bd893661ea55ea3124f6de3c7a262a8b4abca0554b478b1e2ff90"
   }
  }
 },
 "nbformat": 4,
 "nbformat_minor": 4
}
