{
 "cells": [
  {
   "cell_type": "code",
   "execution_count": 1,
   "id": "49417d51-8ef6-44f7-ad21-8e7be8b8d8f0",
   "metadata": {},
   "outputs": [],
   "source": [
    "import numpy as np"
   ]
  },
  {
   "cell_type": "code",
   "execution_count": 46,
   "id": "be58e796-f798-45f2-bc8f-d76878546af5",
   "metadata": {},
   "outputs": [],
   "source": [
    "with open(\"/home/curt/Downloads/input9.txt\", newline=\"\\n\") as f:\n",
    "    raw_data = f.read().splitlines()\n",
    "\n",
    "heightmap = np.array([[int(y) for y in x] for x in raw_data])"
   ]
  },
  {
   "cell_type": "code",
   "execution_count": 47,
   "id": "d74fa276-21b4-4516-987f-e8f46b64c21e",
   "metadata": {},
   "outputs": [
    {
     "name": "stdout",
     "output_type": "stream",
     "text": [
      "lows.sum()=539    number of low points = 237\n"
     ]
    }
   ],
   "source": [
    "def get_low(x,y,hmap):\n",
    "    if x>0 and hmap[y,x]>=hmap[y,x-1]: return 0\n",
    "    if x<len(hmap[0])-1 and hmap[y,x]>=hmap[y,x+1]: return 0\n",
    "    if y>0 and hmap[y,x]>=hmap[y-1,x]: return 0\n",
    "    if y<len(hmap)-1 and hmap[y,x]>=hmap[y+1,x]: return 0\n",
    "    return hmap[y,x] +1\n",
    "\n",
    "lows = heightmap.copy()\n",
    "for x in range(len(heightmap[0])):\n",
    "    for y in range(len(heightmap)):\n",
    "        lows[y,x] = (get_low(x, y, heightmap))\n",
    "\n",
    "print(f\"{lows.sum()=}    number of low points = {len(lows.nonzero()[0])}\")"
   ]
  },
  {
   "cell_type": "code",
   "execution_count": 49,
   "id": "f0d320ae-4c01-4b1f-a14d-ce78375832b1",
   "metadata": {},
   "outputs": [
    {
     "data": {
      "text/plain": [
       "736920"
      ]
     },
     "execution_count": 49,
     "metadata": {},
     "output_type": "execute_result"
    }
   ],
   "source": [
    "def find_neigbors(p, hmap):\n",
    "    neighbors = set()\n",
    "    y, x = p\n",
    "    if x>0:\n",
    "        if hmap[y,x-1]<9 and hmap[y,x]+1<=hmap[y,x-1]:\n",
    "            neighbors.add((y,x-1))\n",
    "    if x<len(hmap[0])-1:\n",
    "        if hmap[y,x+1]<9 and hmap[y,x]+1<=hmap[y,x+1]:\n",
    "            neighbors.add((y,x+1))\n",
    "    if y>0:\n",
    "        if hmap[y-1,x]<9 and hmap[y,x]+1<=hmap[y-1,x]:\n",
    "            neighbors.add((y-1,x))\n",
    "    if y<len(hmap)-1:\n",
    "        if hmap[y+1,x]<9 and hmap[y,x]<=hmap[y+1,x]:\n",
    "            neighbors.add((y+1,x))\n",
    "    return neighbors\n",
    "\n",
    "def find_basin(lp, hmap):\n",
    "    basin, new = set(), {lp}\n",
    "    while new!=basin:\n",
    "        basin.update(new)\n",
    "        for point in basin:\n",
    "            new.update(find_neigbors(point, hmap))\n",
    "    return len(basin)\n",
    "\n",
    "np.product(sorted([find_basin(low, heightmap) for low in zip(*lows.nonzero())])[-3:])"
   ]
  }
 ],
 "metadata": {
  "kernelspec": {
   "display_name": "Python 3 (ipykernel)",
   "language": "python",
   "name": "python3"
  },
  "language_info": {
   "codemirror_mode": {
    "name": "ipython",
    "version": 3
   },
   "file_extension": ".py",
   "mimetype": "text/x-python",
   "name": "python",
   "nbconvert_exporter": "python",
   "pygments_lexer": "ipython3",
   "version": "3.10.1"
  }
 },
 "nbformat": 4,
 "nbformat_minor": 5
}
