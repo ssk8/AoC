{
 "cells": [
  {
   "cell_type": "code",
   "execution_count": 20,
   "id": "cb3685d4-ebd3-43fe-8a56-16f8d53bce36",
   "metadata": {},
   "outputs": [],
   "source": [
    "from collections import Counter, defaultdict"
   ]
  },
  {
   "cell_type": "code",
   "execution_count": 32,
   "id": "9b9be781-de8a-4c67-b465-0902c4531e74",
   "metadata": {},
   "outputs": [],
   "source": [
    "with open(\"/home/curt/Downloads/input6.txt\", 'r') as f:\n",
    "    data = f.read()\n",
    "\n",
    "#data = \"3,4,3,1,2\""
   ]
  },
  {
   "cell_type": "code",
   "execution_count": 18,
   "id": "c3def820-c46a-4b31-bbbd-919780e1d192",
   "metadata": {},
   "outputs": [
    {
     "data": {
      "text/plain": [
       "[12, 22, 42, 81, 154, 287, 527, 962, 1758, 3225, 5934]"
      ]
     },
     "execution_count": 18,
     "metadata": {},
     "output_type": "execute_result"
    }
   ],
   "source": [
    "flst=[int(f) for f in data.split(',')]\n",
    "counts = []\n",
    "days = 80\n",
    "for _ in range(days%7):\n",
    "    new = []\n",
    "    for n, d in enumerate(flst):\n",
    "        d-=1\n",
    "        if d<0:\n",
    "            d=6\n",
    "            new.append(8)\n",
    "        flst[n]=d\n",
    "    flst.extend(new)\n",
    "for _ in range(days//7):\n",
    "    for _ in range(7):\n",
    "        new = []\n",
    "        for n, d in enumerate(flst):\n",
    "            d-=1\n",
    "            if d<0:\n",
    "                d=6\n",
    "                new.append(8)\n",
    "            flst[n]=d\n",
    "        flst.extend(new)\n",
    "    counts.append(len(flst))\n",
    "counts"
   ]
  },
  {
   "cell_type": "code",
   "execution_count": 31,
   "id": "f168c180-c62d-4ceb-bbe0-23a1276933e8",
   "metadata": {},
   "outputs": [
    {
     "name": "stdout",
     "output_type": "stream",
     "text": [
      "10 day sum 827  827\n",
      "Counter({0: 220, 5: 191, 7: 191, 1: 56, 2: 53, 6: 36, 8: 36, 4: 24, 3: 20})\n",
      "256 day sum 1738377086345\n"
     ]
    }
   ],
   "source": [
    "flst=[int(f) for f in data.split(',')]\n",
    "days = 256\n",
    "for _ in range(10):\n",
    "    new = []\n",
    "    for n, d in enumerate(flst):\n",
    "        d-=1\n",
    "        if d<0:\n",
    "            d=6\n",
    "            new.append(8)\n",
    "        flst[n]=d\n",
    "    flst.extend(new)\n",
    "fish = Counter(flst)\n",
    "print(f\"10 day sum {sum(fish.values())}  {len(flst)}\")\n",
    "print(fish)\n",
    "for _ in range(days-10):\n",
    "    next_fish = defaultdict(int)\n",
    "    for n, fc in fish.items():\n",
    "        if n==0:\n",
    "            next_fish[8]+=fc\n",
    "            next_fish[6]+=fc\n",
    "        else:\n",
    "            next_fish[n-1]+=fc\n",
    "    fish=next_fish\n",
    "print(f\"{days} day sum {sum(fish.values())}\")"
   ]
  }
 ],
 "metadata": {
  "kernelspec": {
   "display_name": "Python 3 (ipykernel)",
   "language": "python",
   "name": "python3"
  },
  "language_info": {
   "codemirror_mode": {
    "name": "ipython",
    "version": 3
   },
   "file_extension": ".py",
   "mimetype": "text/x-python",
   "name": "python",
   "nbconvert_exporter": "python",
   "pygments_lexer": "ipython3",
   "version": "3.9.9"
  }
 },
 "nbformat": 4,
 "nbformat_minor": 5
}
