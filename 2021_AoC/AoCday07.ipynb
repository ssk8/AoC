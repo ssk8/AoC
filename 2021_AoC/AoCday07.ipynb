{
 "cells": [
  {
   "cell_type": "code",
   "execution_count": null,
   "id": "5172c9f5-d1ab-48a5-b898-9d4a832ac63c",
   "metadata": {},
   "outputs": [],
   "source": []
  },
  {
   "cell_type": "code",
   "execution_count": 24,
   "id": "2397bef3-a68e-4b4f-a5db-0db5acb36719",
   "metadata": {},
   "outputs": [],
   "source": [
    "with open(\"/home/curt/Downloads/input7.txt\", 'r') as f:\n",
    "    positions = f.read()\n",
    "#positions = \"16,1,2,0,4,2,7,1,2,14\"\n",
    "pos = [int(p) for p in positions.split(',')]"
   ]
  },
  {
   "cell_type": "code",
   "execution_count": 18,
   "id": "4fbd6373-7e25-476e-bfd0-4324535b7176",
   "metadata": {},
   "outputs": [
    {
     "data": {
      "text/plain": [
       "37"
      ]
     },
     "execution_count": 18,
     "metadata": {},
     "output_type": "execute_result"
    }
   ],
   "source": [
    "min(sum(abs(p-np) for p in pos) for np in range(len(pos)))"
   ]
  },
  {
   "cell_type": "code",
   "execution_count": 25,
   "id": "2a8e46eb-9aa1-4fec-acac-79bce8c7d405",
   "metadata": {},
   "outputs": [
    {
     "data": {
      "text/plain": [
       "98368490"
      ]
     },
     "execution_count": 25,
     "metadata": {},
     "output_type": "execute_result"
    }
   ],
   "source": [
    "def move(ip, fp):\n",
    "    return sum(i for i in range(abs(ip-fp)+1))\n",
    "    \n",
    "\n",
    "min(sum(move(p,np) for p in pos) for np in range(len(pos)))"
   ]
  },
  {
   "cell_type": "code",
   "execution_count": null,
   "id": "75d53f2c-e26b-41f0-9a95-7dd9f8ee9bab",
   "metadata": {},
   "outputs": [],
   "source": []
  }
 ],
 "metadata": {
  "kernelspec": {
   "display_name": "Python 3 (ipykernel)",
   "language": "python",
   "name": "python3"
  },
  "language_info": {
   "codemirror_mode": {
    "name": "ipython",
    "version": 3
   },
   "file_extension": ".py",
   "mimetype": "text/x-python",
   "name": "python",
   "nbconvert_exporter": "python",
   "pygments_lexer": "ipython3",
   "version": "3.9.9"
  }
 },
 "nbformat": 4,
 "nbformat_minor": 5
}
