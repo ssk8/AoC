{
 "cells": [
  {
   "cell_type": "code",
   "execution_count": 9,
   "id": "609c7442-2d3b-4485-87aa-89b5d1879e36",
   "metadata": {},
   "outputs": [],
   "source": [
    "#data = pd.read_csv(\"/home/curt/Downloads/input1.txt\", header=None)"
   ]
  },
  {
   "cell_type": "code",
   "execution_count": 6,
   "id": "0327312a-5c35-4f8c-94b4-959bc2da0676",
   "metadata": {},
   "outputs": [],
   "source": [
    "with open(\"/home/curt/Downloads/input1.txt\", 'r') as f:\n",
    "    data = f.read().splitlines()"
   ]
  },
  {
   "cell_type": "code",
   "execution_count": 8,
   "id": "dec1e913-664b-4d6b-bc04-cb1730f8178c",
   "metadata": {},
   "outputs": [],
   "source": [
    "data = [int(l) for l in data]"
   ]
  },
  {
   "cell_type": "code",
   "execution_count": 13,
   "id": "33860e98-3c39-45b8-978e-77f59acefe16",
   "metadata": {},
   "outputs": [
    {
     "data": {
      "text/plain": [
       "1754"
      ]
     },
     "execution_count": 13,
     "metadata": {},
     "output_type": "execute_result"
    }
   ],
   "source": [
    "sum(data[n]<v for n, v in enumerate(data[1:]))"
   ]
  },
  {
   "cell_type": "code",
   "execution_count": 22,
   "id": "e70c5bc3-7e80-4d6e-9454-598ae12076a3",
   "metadata": {},
   "outputs": [
    {
     "data": {
      "text/plain": [
       "1789"
      ]
     },
     "execution_count": 22,
     "metadata": {},
     "output_type": "execute_result"
    }
   ],
   "source": [
    "sum(sum(data[n:n+3])<sum(data[n+1:n+4]) for n, v in enumerate(data))"
   ]
  },
  {
   "cell_type": "code",
   "execution_count": 27,
   "id": "c50a351c-5d5c-4802-a763-17339b663e8c",
   "metadata": {},
   "outputs": [
    {
     "data": {
      "text/plain": [
       "1789"
      ]
     },
     "execution_count": 27,
     "metadata": {},
     "output_type": "execute_result"
    }
   ],
   "source": [
    "sum(data[n]<v for n, v in enumerate(data[3:]))"
   ]
  },
  {
   "cell_type": "code",
   "execution_count": null,
   "id": "ecf2bf89-862d-41a3-9822-7d67b9449978",
   "metadata": {},
   "outputs": [],
   "source": []
  }
 ],
 "metadata": {
  "kernelspec": {
   "display_name": "Python 3 (ipykernel)",
   "language": "python",
   "name": "python3"
  },
  "language_info": {
   "codemirror_mode": {
    "name": "ipython",
    "version": 3
   },
   "file_extension": ".py",
   "mimetype": "text/x-python",
   "name": "python",
   "nbconvert_exporter": "python",
   "pygments_lexer": "ipython3",
   "version": "3.9.9"
  }
 },
 "nbformat": 4,
 "nbformat_minor": 5
}
