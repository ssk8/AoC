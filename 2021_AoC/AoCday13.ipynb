{
 "cells": [
  {
   "cell_type": "code",
   "execution_count": 2,
   "metadata": {},
   "outputs": [],
   "source": [
    "import numpy as np"
   ]
  },
  {
   "cell_type": "code",
   "execution_count": 3,
   "metadata": {},
   "outputs": [
    {
     "name": "stdout",
     "output_type": "stream",
     "text": [
      "(895, 1311)\n",
      "[('x', 655), ('y', 447), ('x', 327), ('y', 223), ('x', 163), ('y', 111), ('x', 81), ('y', 55), ('x', 40), ('y', 27), ('y', 13), ('y', 6)]\n"
     ]
    }
   ],
   "source": [
    "with open(\"/home/curt/Downloads/input13.txt\", newline=\"\\n\") as f:\n",
    "    raw_data = f.read()\n",
    "    \n",
    "a,_,b = raw_data.partition('\\n\\n')\n",
    "marks = [[int(s) for s in l.split(',')] for l in a.split(\"\\n\")]\n",
    "instructions = [(l[11:12],int(l[13:])) for l in b[:-1].split(\"\\n\")]\n",
    "x_max, y_max = [max(x) for x in zip(*marks)]\n",
    "transperancy = np.zeros((y_max+2, x_max+4))\n",
    "for x,y in marks:\n",
    "    transperancy[y,x]=1\n",
    "\n",
    "print(transperancy.shape)\n",
    "print(instructions)"
   ]
  },
  {
   "cell_type": "code",
   "execution_count": 6,
   "metadata": {},
   "outputs": [
    {
     "name": "stdout",
     "output_type": "stream",
     "text": [
      "810\n",
      "685\n",
      "560\n",
      "461\n",
      "377\n",
      "314\n",
      "255\n",
      "207\n",
      "167\n",
      "140\n",
      "123\n",
      "103\n",
      "#..#.#....###..#..#.###...##..####.###..\n",
      "#..#.#....#..#.#..#.#..#.#..#.#....#..#.\n",
      "####.#....###..#..#.###..#....###..#..#.\n",
      "#..#.#....#..#.#..#.#..#.#.##.#....###..\n",
      "#..#.#....#..#.#..#.#..#.#..#.#....#.#..\n",
      "#..#.####.###...##..###...###.#....#..#.\n"
     ]
    }
   ],
   "source": [
    "t = transperancy.copy()\n",
    "for d, n in instructions[:]:\n",
    "    if d == 'y':\n",
    "        t_1 = t[:n, :]\n",
    "        t_2 = t[n+1:, :]\n",
    "        t_2 = t_2[::-1,::]\n",
    "    elif d=='x':\n",
    "        t_1 = t[:, :n]\n",
    "        t_2 = t[:, n+1:]\n",
    "        t_2 = t_2[::,::-1]\n",
    "\n",
    "\n",
    "    t = t_1+t_2\n",
    "    print((t!=0).sum())\n",
    "for l in t:\n",
    "    for c in l:\n",
    "        print(f'{\"#\" if c else \".\"}', end='')\n",
    "    print()"
   ]
  }
 ],
 "metadata": {
  "interpreter": {
   "hash": "767d51c1340bd893661ea55ea3124f6de3c7a262a8b4abca0554b478b1e2ff90"
  },
  "kernelspec": {
   "display_name": "Python 3.10.1 64-bit",
   "language": "python",
   "name": "python3"
  },
  "language_info": {
   "codemirror_mode": {
    "name": "ipython",
    "version": 3
   },
   "file_extension": ".py",
   "mimetype": "text/x-python",
   "name": "python",
   "nbconvert_exporter": "python",
   "pygments_lexer": "ipython3",
   "version": "3.10.1"
  },
  "orig_nbformat": 4
 },
 "nbformat": 4,
 "nbformat_minor": 2
}
