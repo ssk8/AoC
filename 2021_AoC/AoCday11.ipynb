{
 "cells": [
  {
   "cell_type": "code",
   "execution_count": 2,
   "metadata": {},
   "outputs": [],
   "source": [
    "import numpy as np"
   ]
  },
  {
   "cell_type": "code",
   "execution_count": 59,
   "metadata": {},
   "outputs": [],
   "source": [
    "with open(\"/home/curt/Downloads/input11.tst\", newline=\"\\n\") as f:\n",
    "    raw_data = f.read().splitlines()\n",
    "\n",
    "data = [[int(c) for c in l] for l in raw_data]"
   ]
  },
  {
   "cell_type": "code",
   "execution_count": 60,
   "metadata": {},
   "outputs": [
    {
     "name": "stdout",
     "output_type": "stream",
     "text": [
      "194\n",
      "204\n",
      "214\n",
      "224\n",
      "234\n",
      "244\n",
      "254\n",
      "264\n",
      "274\n",
      "284\n",
      "294\n",
      "304\n",
      "314\n",
      "324\n",
      "334\n",
      "344\n",
      "354\n",
      "364\n",
      "374\n",
      "384\n",
      "394\n",
      "404\n",
      "414\n",
      "flashes=5325\n"
     ]
    }
   ],
   "source": [
    "el = np.array(data)\n",
    "steps = 420\n",
    "\n",
    "flashes = 0\n",
    "\n",
    "def find_adjacent(p, ymax, xmax):\n",
    "    adjacents = []\n",
    "    y0, x0 = p\n",
    "    for y in range(-1,2):\n",
    "        for x in range(-1,2):\n",
    "            y1, x1 = y0+y, x0+x\n",
    "            if 0<=y1<ymax and 0<=x1<xmax:\n",
    "                adjacents.append((y1, x1))\n",
    "    return adjacents\n",
    "\n",
    "def flash(grid):\n",
    "    flashers = list(zip(*np.where(grid>9)))\n",
    "    cur_flashes=len(flashers)\n",
    "    for flasher in flashers:\n",
    "        grid[flasher]=-1000\n",
    "        adjacents = find_adjacent(flasher, len(grid), len(grid[0]))\n",
    "        for adjacent in adjacents:\n",
    "            grid[adjacent]+=1\n",
    "    return grid, cur_flashes\n",
    "\n",
    "    \n",
    "\n",
    "\n",
    "for n in range(steps):\n",
    "    el+=1\n",
    "    nel = np.array([0])\n",
    "    while not (nel==el).all():\n",
    "        nel = el.copy()\n",
    "        el, cur = flash(el)\n",
    "        flashes+=cur\n",
    "    for flashed in list(zip(*np.where(el<0))):\n",
    "        el[flashed] = 0\n",
    "    if (el==0).all():print(n)\n",
    "\n",
    "print(f\"{flashes=}\")"
   ]
  }
 ],
 "metadata": {
  "interpreter": {
   "hash": "767d51c1340bd893661ea55ea3124f6de3c7a262a8b4abca0554b478b1e2ff90"
  },
  "kernelspec": {
   "display_name": "Python 3.10.1 64-bit",
   "language": "python",
   "name": "python3"
  },
  "language_info": {
   "codemirror_mode": {
    "name": "ipython",
    "version": 3
   },
   "file_extension": ".py",
   "mimetype": "text/x-python",
   "name": "python",
   "nbconvert_exporter": "python",
   "pygments_lexer": "ipython3",
   "version": "3.10.1"
  },
  "orig_nbformat": 4
 },
 "nbformat": 4,
 "nbformat_minor": 2
}
