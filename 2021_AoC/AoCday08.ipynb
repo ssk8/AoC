{
 "cells": [
  {
   "cell_type": "code",
   "execution_count": 1,
   "id": "a6fe88bb-db70-432c-9d47-98a18906fdf7",
   "metadata": {},
   "outputs": [],
   "source": [
    "from itertools import chain\n",
    "from collections import Counter"
   ]
  },
  {
   "cell_type": "code",
   "execution_count": 51,
   "id": "e6571377-3e69-446d-8225-d0cb6800fbea",
   "metadata": {},
   "outputs": [
    {
     "name": "stdout",
     "output_type": "stream",
     "text": [
      "abcefg 0\n",
      "cf 1\n",
      "acdeg 2\n",
      "acdfg 3\n",
      "bcdf 4\n",
      "abdfg 5\n",
      "abdefg 6\n",
      "acf 7\n",
      "abcdefg 8\n",
      "abcdfg 9\n"
     ]
    }
   ],
   "source": [
    "with open(\"/home/curt/Downloads/input8.sup\", newline=\"\\n\") as f:\n",
    "    cs = f.read().splitlines()\n",
    "    \n",
    "code = dict()\n",
    "for n in range(0, 10*len(cs)//10, 8):\n",
    "    code[cs[n][2]] = [cs[n+c] for c in range(1,8)]\n",
    "code_set = {''.join(sorted(list(set([c for c in chain(*v) if c in \"abcdefg\"])))):k for k, v in code.items()}\n",
    "for k, v in code_set.items():\n",
    "    print(k,v)\n"
   ]
  },
  {
   "cell_type": "code",
   "execution_count": 3,
   "id": "13297837-faea-486e-9da8-6547c5270812",
   "metadata": {},
   "outputs": [],
   "source": [
    "with open(\"/home/curt/Downloads/input8.txt.test\", newline=\"\\n\") as f:\n",
    "    entrs = f.read().splitlines()"
   ]
  },
  {
   "cell_type": "code",
   "execution_count": 162,
   "id": "45a76742-fa76-49a4-ad2a-de3898c70294",
   "metadata": {},
   "outputs": [],
   "source": [
    "with open(\"/home/curt/Downloads/input8.txt\", newline=\"\\n\") as f:\n",
    "    entrs = f.read().splitlines()"
   ]
  },
  {
   "cell_type": "code",
   "execution_count": 126,
   "id": "174ecbff-6f5e-4d4a-84c8-25d488c36bca",
   "metadata": {},
   "outputs": [
    {
     "name": "stdout",
     "output_type": "stream",
     "text": [
      "['82350694', '069781', '110697', '0692350691', '487235', '8418', '423548', '1069235235', '8717', '42351235']\n",
      "26\n"
     ]
    }
   ],
   "source": [
    "decode = []\n",
    "line_list = []\n",
    "for line in entrs:\n",
    "    *_, cur = line.partition(' | ')\n",
    "    char_list = ''\n",
    "    for char in [sorted(list(set(c))) for c in cur.split()]:    \n",
    "        for k,v in code_set.items():\n",
    "            if len(char)==len(v):\n",
    "                char_list+=k\n",
    "    line_list.append(char_list)\n",
    "\n",
    "print(line_list)\n",
    "count = [Counter(line) for line in line_list]\n",
    "\n",
    "totals = [sum(d.get(h, 0) for h in '1478') for d in count]\n",
    "print(sum(totals))"
   ]
  },
  {
   "cell_type": "code",
   "execution_count": 163,
   "id": "4e8fab52-dea1-443f-bcf6-42df0fbe0719",
   "metadata": {},
   "outputs": [
    {
     "data": {
      "text/plain": [
       "989396"
      ]
     },
     "execution_count": 163,
     "metadata": {},
     "output_type": "execute_result"
    }
   ],
   "source": [
    "def get_code(mess):\n",
    "    dl = [set()]*10\n",
    "    dl[1] = set([w for w in mess.split() if len(w)==2][0]) #cf\n",
    "    dl[4] = set([w for w in mess.split() if len(w)==4][0]) #bcdf\n",
    "    dl[7] = set([w for w in mess.split() if len(w)==3][0]) #acf\n",
    "    dl[8] = set([w for w in mess.split() if len(w)==7][0]) #abcdefg\n",
    "    a = set(dl[7]-dl[1])\n",
    "    db = set(dl[4]-dl[1])\n",
    "    dl[9] = set(*[s for s in [w for w in mess.split() if len(w)==6] if set(s)>=dl[4]])\n",
    "    dl[5] = set(*[s for s in [w for w in mess.split() if len(w)==5] if set(s)>=db])\n",
    "    dl[0] = set(*[s for s in [w for w in mess.split() if len(w)==6] if not set(s)>=db])\n",
    "    dl[3] = set(*[s for s in [w for w in mess.split() if len(w)==5] if set(s)>=dl[7]])\n",
    "    dl[6] = set(*[s for s in [w for w in mess.split() if len(w)==6] if set(s)!=dl[9] and set(s)!=dl[0]])\n",
    "    dl[2] = set(*[s for s in [w for w in mess.split() if len(w)==5] if set(s)!=dl[5] and set(s)!=dl[3]])\n",
    "    return dl\n",
    "\n",
    "line_num = []\n",
    "for line in entrs:\n",
    "\n",
    "    dec, _, cur_line = line.partition(' | ')\n",
    "    line_dict = {\"\".join(sorted(v)):str(n) for n, v in enumerate(get_code(dec))}\n",
    "    line_num.append(int(\"\".join([line_dict[''.join(sorted(cw))] for cw in cur_line.split()])))\n",
    "\n",
    "sum(line_num)\n"
   ]
  },
  {
   "cell_type": "code",
   "execution_count": null,
   "id": "dc66100c-164d-4c28-8d80-efbb3d3dd0d9",
   "metadata": {},
   "outputs": [],
   "source": []
  }
 ],
 "metadata": {
  "kernelspec": {
   "display_name": "Python 3 (ipykernel)",
   "language": "python",
   "name": "python3"
  },
  "language_info": {
   "codemirror_mode": {
    "name": "ipython",
    "version": 3
   },
   "file_extension": ".py",
   "mimetype": "text/x-python",
   "name": "python",
   "nbconvert_exporter": "python",
   "pygments_lexer": "ipython3",
   "version": "3.9.9"
  }
 },
 "nbformat": 4,
 "nbformat_minor": 5
}
