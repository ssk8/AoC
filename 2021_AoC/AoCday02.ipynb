{
 "cells": [
  {
   "cell_type": "code",
   "execution_count": 20,
   "id": "9704dfde-c328-4b5a-928c-0b6a29595bdb",
   "metadata": {},
   "outputs": [],
   "source": [
    "test_data = [\"forward 5\",\"down 5\",\"forward 8\",\"up 3\",\"down 8\",\"forward 2\"]"
   ]
  },
  {
   "cell_type": "code",
   "execution_count": 4,
   "id": "de4468e5-97ac-4848-9bed-0fb56b38ce7e",
   "metadata": {},
   "outputs": [],
   "source": [
    "with open(\"/home/curt/Downloads/input2.txt\", 'r') as f:\n",
    "    data = f.read().splitlines()"
   ]
  },
  {
   "cell_type": "code",
   "execution_count": 18,
   "id": "429289b5-3daf-46e3-a429-2e0c84737c57",
   "metadata": {},
   "outputs": [
    {
     "data": {
      "text/plain": [
       "-2102357"
      ]
     },
     "execution_count": 18,
     "metadata": {},
     "output_type": "execute_result"
    }
   ],
   "source": [
    "h_pos, depth = 0, 0\n",
    "for d in data:\n",
    "    direction, _, mag = d.partition(' ')\n",
    "    if len(direction)>4:\n",
    "        h_pos+=int(mag)\n",
    "    else:\n",
    "        depth+=int(mag)*(direction==\"up\" or -1)\n",
    "h_pos*depth"
   ]
  },
  {
   "cell_type": "code",
   "execution_count": null,
   "id": "e07aeba7-1695-4a27-a4b2-6c5aa15009a5",
   "metadata": {},
   "outputs": [],
   "source": []
  },
  {
   "cell_type": "code",
   "execution_count": 25,
   "id": "4d49aa73-6ce6-46c3-8b03-6384a7192028",
   "metadata": {},
   "outputs": [
    {
     "data": {
      "text/plain": [
       "-2101031224"
      ]
     },
     "execution_count": 25,
     "metadata": {},
     "output_type": "execute_result"
    }
   ],
   "source": [
    "aim, h_pos, depth = 0, 0, 0\n",
    "for d in data:\n",
    "    direction, _, mag = d.partition(' ')\n",
    "    mag = int(mag)\n",
    "    if len(direction)>4:\n",
    "        h_pos+=mag\n",
    "        depth+=mag*aim\n",
    "    else:\n",
    "        aim+=mag*(direction==\"up\" or -1)\n",
    "h_pos*depth"
   ]
  },
  {
   "cell_type": "code",
   "execution_count": null,
   "id": "bb742254-748a-4214-aab5-d38d09e790f1",
   "metadata": {},
   "outputs": [],
   "source": []
  }
 ],
 "metadata": {
  "kernelspec": {
   "display_name": "Python 3 (ipykernel)",
   "language": "python",
   "name": "python3"
  },
  "language_info": {
   "codemirror_mode": {
    "name": "ipython",
    "version": 3
   },
   "file_extension": ".py",
   "mimetype": "text/x-python",
   "name": "python",
   "nbconvert_exporter": "python",
   "pygments_lexer": "ipython3",
   "version": "3.9.9"
  }
 },
 "nbformat": 4,
 "nbformat_minor": 5
}
