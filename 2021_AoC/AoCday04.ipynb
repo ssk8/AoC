{
 "cells": [
  {
   "cell_type": "code",
   "execution_count": 121,
   "id": "26bd03da-6c52-42b5-8a6f-1a812d579acc",
   "metadata": {},
   "outputs": [],
   "source": [
    "from itertools import chain"
   ]
  },
  {
   "cell_type": "code",
   "execution_count": 177,
   "id": "422621f4-aa27-4e66-a73b-282d26e913e8",
   "metadata": {},
   "outputs": [],
   "source": [
    "with open(\"/home/curt/Downloads/input4.txt\", 'r') as f:\n",
    "    randoms = f.readline()\n",
    "    boards = f.read().splitlines()\n",
    "\n",
    "randoms = [int(n) for n in randoms[:-1].split(\",\")]\n",
    "boards = [[[int(l) for l in b.split()] for b in boards[n:n+5]] for n in range(1, len(boards), 6)]"
   ]
  },
  {
   "cell_type": "code",
   "execution_count": 176,
   "id": "f095178e-988b-4d17-afd4-e45018cfc751",
   "metadata": {},
   "outputs": [
    {
     "name": "stdout",
     "output_type": "stream",
     "text": [
      "71708\n"
     ]
    }
   ],
   "source": [
    "def get_sets(board):\n",
    "    sets = [set(), set(), set(), set(), set(), set(), set(), set(), set(), set()]\n",
    "    for n in range(5):\n",
    "        sets[n].update(board[n])\n",
    "        sets[n+5].update([board[i][n] for i in range(5)])\n",
    "    return sets\n",
    "\n",
    "board_sets = [get_sets(board) for board in boards]\n",
    "\n",
    "def game():\n",
    "    bingo = set()\n",
    "    for n in randoms:\n",
    "        bingo.add(n)\n",
    "        for board_set in board_sets:\n",
    "            if any(s.issubset(bingo) for s in board_set):\n",
    "                return(sum(set(chain(*board_set)).difference(bingo))*n)\n",
    "print(game())"
   ]
  },
  {
   "cell_type": "code",
   "execution_count": 192,
   "id": "a2a86cb3-207f-49f3-9e1d-d9536e1bbbd6",
   "metadata": {},
   "outputs": [
    {
     "data": {
      "text/plain": [
       "34726"
      ]
     },
     "execution_count": 192,
     "metadata": {},
     "output_type": "execute_result"
    }
   ],
   "source": [
    "def get_sets(board):\n",
    "    sets = [set(), set(), set(), set(), set(), set(), set(), set(), set(), set()]\n",
    "    for n in range(5):\n",
    "        sets[n].update(board[n])\n",
    "        sets[n+5].update([board[i][n] for i in range(5)])\n",
    "    return sets\n",
    "\n",
    "board_sets = [get_sets(board) for board in boards]\n",
    "\n",
    "def game(bingo_set, boardsets, m):\n",
    "    stuff = []\n",
    "    for boardset in boardsets:\n",
    "        if any(s.issubset(bingo_set) for s in boardset):\n",
    "            stuff.append((sum(set(chain(*boardset)).difference(bingo_set))*m, boardset))\n",
    "    return stuff\n",
    "        \n",
    "def rank(cards):\n",
    "    bingo = set()\n",
    "    scores = list()\n",
    "    for n in randoms:\n",
    "        bingo.add(n)\n",
    "        for score, gc in game(bingo, cards, n):\n",
    "            cards.remove(gc)\n",
    "            scores.append(score)\n",
    "    return scores\n",
    "\n",
    "rank(board_sets)[-1]"
   ]
  },
  {
   "cell_type": "code",
   "execution_count": null,
   "id": "f65ad3dd-2c7a-4978-897c-9e217bd3427f",
   "metadata": {},
   "outputs": [],
   "source": []
  }
 ],
 "metadata": {
  "kernelspec": {
   "display_name": "Python 3 (ipykernel)",
   "language": "python",
   "name": "python3"
  },
  "language_info": {
   "codemirror_mode": {
    "name": "ipython",
    "version": 3
   },
   "file_extension": ".py",
   "mimetype": "text/x-python",
   "name": "python",
   "nbconvert_exporter": "python",
   "pygments_lexer": "ipython3",
   "version": "3.9.9"
  }
 },
 "nbformat": 4,
 "nbformat_minor": 5
}
