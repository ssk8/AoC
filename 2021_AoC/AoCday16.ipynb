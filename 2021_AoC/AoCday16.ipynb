{
 "cells": [
  {
   "cell_type": "code",
   "execution_count": null,
   "metadata": {},
   "outputs": [],
   "source": []
  },
  {
   "cell_type": "code",
   "execution_count": null,
   "metadata": {},
   "outputs": [],
   "source": [
    "with open(\"/home/curt/Downloads/input16.tst\", newline=\"\\n\") as f:\n",
    "    raw_data = f.read().splitlines()"
   ]
  },
  {
   "cell_type": "code",
   "execution_count": 36,
   "metadata": {},
   "outputs": [
    {
     "name": "stdout",
     "output_type": "stream",
     "text": [
      "110100101111111000101\n",
      "24517\n",
      "101111111000101\n",
      "011111100101 2021\n"
     ]
    }
   ],
   "source": [
    "string = \"\".join([f\"{(int(c,18)):>04b}\" for c in \"D2FE28\"]).rstrip('0')\n",
    "print(string)\n",
    "print(f\"{int(string[6:],2)}\")\n",
    "print(string[6:])\n",
    "print('011111100101', int('011111100101',2))"
   ]
  },
  {
   "cell_type": "code",
   "execution_count": 13,
   "metadata": {},
   "outputs": [
    {
     "name": "stdout",
     "output_type": "stream",
     "text": [
      "00111000000000000110111101000101001010010001001\n"
     ]
    }
   ],
   "source": [
    "string = \"\".join([f\"{(int(c,18)):>04b}\" for c in \"38006F45291200\"]).rstrip('0')\n",
    "print(string) "
   ]
  },
  {
   "cell_type": "code",
   "execution_count": 38,
   "metadata": {},
   "outputs": [
    {
     "name": "stdout",
     "output_type": "stream",
     "text": [
      "0 : 0000\n",
      "1 : 0001\n",
      "2 : 0010\n",
      "3 : 0011\n",
      "4 : 0100\n",
      "5 : 0101\n",
      "6 : 0110\n",
      "7 : 0111\n",
      "8 : 1000\n",
      "9 : 1001\n",
      "A : 1010\n",
      "B : 1011\n",
      "C : 1100\n",
      "D : 1101\n",
      "E : 1110\n",
      "F : 1111\n"
     ]
    }
   ],
   "source": [
    "for c in '0123456789ABCDEF':\n",
    "    print(f\"{c} : {(int(c,18)):>04b}\")"
   ]
  }
 ],
 "metadata": {
  "interpreter": {
   "hash": "767d51c1340bd893661ea55ea3124f6de3c7a262a8b4abca0554b478b1e2ff90"
  },
  "kernelspec": {
   "display_name": "Python 3.10.1 64-bit",
   "language": "python",
   "name": "python3"
  },
  "language_info": {
   "codemirror_mode": {
    "name": "ipython",
    "version": 3
   },
   "file_extension": ".py",
   "mimetype": "text/x-python",
   "name": "python",
   "nbconvert_exporter": "python",
   "pygments_lexer": "ipython3",
   "version": "3.10.1"
  },
  "orig_nbformat": 4
 },
 "nbformat": 4,
 "nbformat_minor": 2
}
