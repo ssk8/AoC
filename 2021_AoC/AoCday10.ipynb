{
 "cells": [
  {
   "cell_type": "code",
   "execution_count": 125,
   "metadata": {},
   "outputs": [],
   "source": [
    "with open(\"/home/curt/Downloads/input10.txt\", newline=\"\\n\") as f:\n",
    "    raw_data = f.read().splitlines()"
   ]
  },
  {
   "cell_type": "code",
   "execution_count": 95,
   "metadata": {},
   "outputs": [
    {
     "data": {
      "text/plain": [
       "26397"
      ]
     },
     "execution_count": 95,
     "metadata": {},
     "output_type": "execute_result"
    }
   ],
   "source": [
    "points = {\n",
    "\")\": 3 ,\n",
    "\"]\": 57 ,\n",
    "\"}\": 1197 ,\n",
    "\">\": 25137,}\n",
    "\n",
    "pair =  {o:c for o, c in zip(')]}>', '([{<')}\n",
    "def check_line(line):\n",
    "    tree = {None:None}\n",
    "    for char in line:\n",
    "        if char in pair.values():\n",
    "            tree = {char:tree}\n",
    "        elif nt:=tree.get(pair[char]):\n",
    "            tree = nt\n",
    "        else:\n",
    "            return points[char]\n",
    "    return 0\n",
    "\n",
    "\n",
    "sum([check_line(l) for l in raw_data])"
   ]
  },
  {
   "cell_type": "code",
   "execution_count": 126,
   "metadata": {},
   "outputs": [
    {
     "name": "stdout",
     "output_type": "stream",
     "text": [
      "[9324, 302068, 757341, 1398482, 4512307, 5214532, 5466784, 9196107, 14254589, 18632938, 22418549, 26373441, 26870824, 41504034, 92385361, 121692084, 173728938, 335857468, 604010468, 651873687, 804599563, 809682432, 1112863417, 1149333684, 1891520623, 1900191438, 2829160808, 3015539998, 3024105581, 3088946611, 3400993116, 3501446033, 3987786671, 4079217473, 4472058483, 4527181198, 4867146617, 4876776737, 5241739547, 5307230181, 5614804319, 5699108039, 6024479948, 6044090193, 11565431034, 11962370241, 14401558912, 15227874169, 15359355181, 16255210572, 16522880497, 20250895844, 20622166499, 22342333122, 24157780407]\n"
     ]
    },
    {
     "data": {
      "text/plain": [
       "3015539998"
      ]
     },
     "execution_count": 126,
     "metadata": {},
     "output_type": "execute_result"
    }
   ],
   "source": [
    "pair =  {o:c for o, c in zip(')]}>', '([{<')}\n",
    "def check_line(line):\n",
    "    tree = {\"$\":None}\n",
    "    for char in line:\n",
    "        if char in pair.values():\n",
    "            tree = {char:tree}\n",
    "        elif nt:=tree.get(pair[char]):\n",
    "            tree = nt\n",
    "        else:\n",
    "            return \n",
    "    return tree\n",
    "\n",
    "\n",
    "incomplete = [check_line(l) for l in raw_data]\n",
    "fin_points = {\"(\":1,\"[\":2,\"{\":3,\"<\":4}\n",
    "\n",
    "def comlete(unf_dic):\n",
    "    score = 0\n",
    "    while unf_dic:\n",
    "        if cur_points:=fin_points.get(list(unf_dic.keys())[0]):\n",
    "            score = score*5 + cur_points\n",
    "        unf_dic = list(unf_dic.values())[0]\n",
    "    return score\n",
    "\n",
    "scores = sorted([comlete(inc) for inc in incomplete if inc])\n",
    "print(scores)\n",
    "scores[len(scores)//2]"
   ]
  }
 ],
 "metadata": {
  "interpreter": {
   "hash": "767d51c1340bd893661ea55ea3124f6de3c7a262a8b4abca0554b478b1e2ff90"
  },
  "kernelspec": {
   "display_name": "Python 3.9.9 64-bit",
   "language": "python",
   "name": "python3"
  },
  "language_info": {
   "name": "python",
   "version": "3.10.1"
  },
  "orig_nbformat": 4
 },
 "nbformat": 4,
 "nbformat_minor": 2
}
