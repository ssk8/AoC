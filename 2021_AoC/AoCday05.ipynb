{
 "cells": [
  {
   "cell_type": "code",
   "execution_count": 55,
   "id": "5a95dedc-3357-4ff0-8490-2abc6e365d09",
   "metadata": {},
   "outputs": [],
   "source": [
    "import numpy as np"
   ]
  },
  {
   "cell_type": "code",
   "execution_count": 194,
   "id": "2ae75293-a509-48cb-bbca-3b042000f382",
   "metadata": {},
   "outputs": [],
   "source": [
    "with open(\"/home/curt/Downloads/input5.txt\", 'r') as f:\n",
    "    data = f.read().splitlines()\n",
    "data_proc = [[[b, e] for b, _, e in [line.partition(' -> ')]][0] for line in data]\n",
    "data_proc = [[[[int(x),int(y)] for x, _, y in [p.partition(',')]][0] for p in l] for l in data_proc]\n"
   ]
  },
  {
   "cell_type": "code",
   "execution_count": 133,
   "id": "8a55b51b-df50-4843-85e4-de390aa57afe",
   "metadata": {},
   "outputs": [
    {
     "data": {
      "text/plain": [
       "5124"
      ]
     },
     "execution_count": 133,
     "metadata": {},
     "output_type": "execute_result"
    }
   ],
   "source": [
    "grid = np.zeros(shape=(1000,1000))\n",
    "for [x1, y1], [x2, y2] in data_proc:\n",
    "    if x1 == x2 or y1 == y2:\n",
    "        if x2 < x1: x1, x2 = x2, x1\n",
    "        if y2 < y1: y1, y2 = y2, y1\n",
    "        for x in range(x1, x2+1):\n",
    "            for y in range(y1, y2+1):\n",
    "                grid[y, x]+=1\n",
    "np.count_nonzero(grid > 1)"
   ]
  },
  {
   "cell_type": "code",
   "execution_count": 195,
   "id": "014b3d40-fd6b-4108-a16e-202a7c16351a",
   "metadata": {},
   "outputs": [
    {
     "data": {
      "text/plain": [
       "19771"
      ]
     },
     "execution_count": 195,
     "metadata": {},
     "output_type": "execute_result"
    }
   ],
   "source": [
    "grid = np.zeros(shape=(1000, 1000))\n",
    "for [x1, y1], [x2, y2] in data_proc:\n",
    "    if x1>x2: x1, y1, x2, y2 = x2, y2, x1, y1    \n",
    "    if y1 == y2:\n",
    "        for x in range(x1, x2+1):\n",
    "            grid[x, y1]+=1\n",
    "    if x1 == x2:\n",
    "        for y in range(y1, y2+(y1<y2 or -1), y2>y1 or -1):\n",
    "            grid[x1, y]+=1\n",
    "    if x2-x1 == y2-y1:\n",
    "        for x in range(x1, x2+1):\n",
    "            grid[x, y1-x1+x]+=1\n",
    "    if x2-x1 == y1-y2:\n",
    "        for x in range(x1, x2+1):\n",
    "            grid[x, y1+x1-x]+=1\n",
    "np.count_nonzero(grid > 1)"
   ]
  }
 ],
 "metadata": {
  "kernelspec": {
   "display_name": "Python 3 (ipykernel)",
   "language": "python",
   "name": "python3"
  },
  "language_info": {
   "codemirror_mode": {
    "name": "ipython",
    "version": 3
   },
   "file_extension": ".py",
   "mimetype": "text/x-python",
   "name": "python",
   "nbconvert_exporter": "python",
   "pygments_lexer": "ipython3",
   "version": "3.9.9"
  }
 },
 "nbformat": 4,
 "nbformat_minor": 5
}
