{
 "cells": [
  {
   "cell_type": "code",
   "execution_count": 54,
   "metadata": {},
   "outputs": [],
   "source": [
    "from collections import Counter, defaultdict"
   ]
  },
  {
   "cell_type": "code",
   "execution_count": 110,
   "metadata": {},
   "outputs": [
    {
     "name": "stdout",
     "output_type": "stream",
     "text": [
      "SCSCSKKVVBKVFKSCCSOV\n",
      "[('CP', 'C'), ('SF', 'S'), ('BH', 'F'), ('SS', 'N'), ('KB', 'N'), ('NO', 'N'), ('BP', 'F'), ('NK', 'P'), ('VP', 'H'), ('OF', 'O'), ('VH', 'O'), ('FV', 'F'), ('OP', 'V'), ('FP', 'B'), ('VB', 'B'), ('OK', 'S'), ('BS', 'B'), ('SK', 'P'), ('VV', 'H'), ('PC', 'S'), ('HV', 'K'), ('PS', 'N'), ('VS', 'O'), ('HF', 'B'), ('SV', 'C'), ('HP', 'O'), ('NF', 'V'), ('HB', 'F'), ('VO', 'B'), ('VN', 'N'), ('ON', 'H'), ('KV', 'K'), ('OV', 'F'), ('HO', 'H'), ('NB', 'K'), ('CB', 'F'), ('FF', 'H'), ('NH', 'F'), ('SN', 'N'), ('PO', 'O'), ('PH', 'C'), ('HH', 'P'), ('KF', 'N'), ('OH', 'N'), ('KS', 'O'), ('FH', 'H'), ('CC', 'F'), ('CK', 'N'), ('FC', 'F'), ('CF', 'H'), ('HN', 'B'), ('OC', 'F'), ('OB', 'K'), ('FO', 'P'), ('KP', 'N'), ('NC', 'P'), ('PN', 'O'), ('PV', 'B'), ('CO', 'C'), ('CS', 'P'), ('PP', 'V'), ('FN', 'B'), ('PK', 'C'), ('VK', 'S'), ('HS', 'P'), ('OS', 'N'), ('NP', 'K'), ('SB', 'F'), ('OO', 'F'), ('CV', 'V'), ('BB', 'O'), ('SH', 'O'), ('NV', 'N'), ('BN', 'C'), ('KN', 'H'), ('KC', 'C'), ('BK', 'O'), ('KO', 'S'), ('VC', 'N'), ('KK', 'P'), ('BO', 'V'), ('BC', 'V'), ('BV', 'H'), ('SC', 'N'), ('NN', 'C'), ('CH', 'H'), ('SO', 'P'), ('HC', 'F'), ('FS', 'P'), ('VF', 'S'), ('BF', 'S'), ('PF', 'O'), ('SP', 'H'), ('FK', 'N'), ('NS', 'C'), ('PB', 'S'), ('HK', 'C'), ('CN', 'B'), ('FB', 'O'), ('KH', 'O')]\n"
     ]
    }
   ],
   "source": [
    "with open(\"/home/curt/Downloads/input14.txt\", newline=\"\\n\") as f:\n",
    "    raw_data = f.read().splitlines()\n",
    "\n",
    "template = raw_data[0]\n",
    "rules = raw_data[2:]\n",
    "rules = [(a,b) for a,_,b in [e.partition(\" -> \") for e in rules]]\n",
    "\n",
    "print(template)\n",
    "print(rules)"
   ]
  },
  {
   "cell_type": "code",
   "execution_count": 61,
   "metadata": {},
   "outputs": [
    {
     "name": "stdout",
     "output_type": "stream",
     "text": [
      "NNCB\n",
      "1: 1\n",
      "1: Counter({'N': 2, 'C': 2, 'B': 2, 'H': 1})\n",
      "2: 5\n",
      "2: Counter({'B': 6, 'C': 4, 'N': 2, 'H': 1})\n",
      "3: 7\n",
      "3: Counter({'B': 11, 'N': 5, 'C': 5, 'H': 4})\n",
      "4: 18\n",
      "4: Counter({'B': 23, 'N': 11, 'C': 10, 'H': 5})\n",
      "5: 33\n",
      "5: Counter({'B': 46, 'N': 23, 'C': 15, 'H': 13})\n",
      "6: 82\n",
      "6: Counter({'B': 98, 'N': 48, 'C': 31, 'H': 16})\n",
      "7: 160\n",
      "7: Counter({'B': 199, 'N': 99, 'C': 48, 'H': 39})\n",
      "8: 366\n",
      "8: Counter({'B': 417, 'N': 205, 'C': 96, 'H': 51})\n",
      "9: 727\n",
      "9: Counter({'B': 845, 'N': 422, 'C': 152, 'H': 118})\n",
      "10: 1588\n",
      "10: Counter({'B': 1749, 'N': 865, 'C': 298, 'H': 161})\n"
     ]
    }
   ],
   "source": [
    "t = template\n",
    "print(t)\n",
    "for n in range(10):\n",
    "    new_t = t[0]\n",
    "    for next_mono in t[1:]:\n",
    "        for r, rule in rules:\n",
    "            if new_t[-1]==r[0] and next_mono==r[1]:\n",
    "                new_t = new_t + rule + next_mono\n",
    "                break\n",
    "    t = new_t\n",
    "    counter = Counter(t)\n",
    "    print(f\"{n+1}: {max(counter.values()) - min(counter.values())}\")\n",
    "    print(f\"{n+1}: {counter}\")"
   ]
  },
  {
   "cell_type": "code",
   "execution_count": 45,
   "metadata": {},
   "outputs": [
    {
     "name": "stdout",
     "output_type": "stream",
     "text": [
      "1: 1\n",
      "2: 5\n",
      "3: 7\n",
      "4: 18\n",
      "5: 33\n",
      "6: 82\n",
      "7: 160\n",
      "8: 366\n",
      "9: 727\n",
      "10: 1588\n",
      "Counter({'B': 1749, 'N': 865, 'C': 298, 'H': 161})\n"
     ]
    }
   ],
   "source": [
    "t = list(template)\n",
    "rd = {k:v for k, v in rules}\n",
    "def itterate(t):\n",
    "    for n in range(10):\n",
    "        new_t = t[0:1]\n",
    "        for next_mono in t[1:]:\n",
    "            new_t.extend([rd[new_t[-1]+next_mono], next_mono])\n",
    "        t = new_t\n",
    "        counter = Counter(t)\n",
    "        print(f\"{n+1}: {max(counter.values()) - min(counter.values())}\")\n",
    "    print(counter)\n",
    "\n",
    "\n",
    "itterate(t)"
   ]
  },
  {
   "cell_type": "code",
   "execution_count": 111,
   "metadata": {},
   "outputs": [
    {
     "name": "stdout",
     "output_type": "stream",
     "text": [
      "3243771149914\n"
     ]
    }
   ],
   "source": [
    "rule_dict = {k:v for k, v in rules}\n",
    "dimer_total = {k:0 for k,_ in rules}\n",
    "mono_total = defaultdict(int)\n",
    "\n",
    "for n, p in enumerate(template[1:]):\n",
    "    dimer_total[template[n:n+2]]+=1\n",
    "\n",
    "for monomer in template:\n",
    "    mono_total[monomer]+=1\n",
    "\n",
    "for n in range(40):\n",
    "    new_dimers = defaultdict(int)\n",
    "    for k, v in dimer_total.items():\n",
    "        new_dimers[k[0]+rule_dict[k]]+=v\n",
    "        new_dimers[rule_dict[k]+k[1]]+=v\n",
    "        mono_total[rule_dict[k]]+=v\n",
    "    dimer_total = new_dimers\n",
    "\n",
    "print(max(mono_total.values())-min(mono_total.values()))"
   ]
  }
 ],
 "metadata": {
  "interpreter": {
   "hash": "767d51c1340bd893661ea55ea3124f6de3c7a262a8b4abca0554b478b1e2ff90"
  },
  "kernelspec": {
   "display_name": "Python 3.10.1 64-bit",
   "language": "python",
   "name": "python3"
  },
  "language_info": {
   "codemirror_mode": {
    "name": "ipython",
    "version": 3
   },
   "file_extension": ".py",
   "mimetype": "text/x-python",
   "name": "python",
   "nbconvert_exporter": "python",
   "pygments_lexer": "ipython3",
   "version": "3.10.1"
  },
  "orig_nbformat": 4
 },
 "nbformat": 4,
 "nbformat_minor": 2
}
