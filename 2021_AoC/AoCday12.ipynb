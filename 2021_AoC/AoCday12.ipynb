{
 "cells": [
  {
   "cell_type": "code",
   "execution_count": null,
   "metadata": {},
   "outputs": [],
   "source": [
    "import"
   ]
  },
  {
   "cell_type": "code",
   "execution_count": 225,
   "metadata": {},
   "outputs": [
    {
     "name": "stdout",
     "output_type": "stream",
     "text": [
      "['re-js', 'qx-CG', 'start-js', 'start-bj', 'qx-ak', 'js-bj', 'ak-re', 'CG-ak', 'js-CG', 'bj-re', 'ak-lg', 'lg-CG', 'qx-re', 'WP-ak', 'WP-end', 're-lg', 'end-ak', 'WP-re', 'bj-CG', 'qx-start', 'bj-WP', 'JG-lg', 'end-lg', 'lg-iw']\n",
      "[{'re', 'js'}, {'qx', 'CG'}, {'start', 'js'}, {'bj', 'start'}, {'qx', 'ak'}, {'bj', 'js'}, {'ak', 're'}, {'CG', 'ak'}, {'CG', 'js'}, {'re', 'bj'}, {'ak', 'lg'}, {'CG', 'lg'}, {'qx', 're'}, {'WP', 'ak'}, {'WP', 'end'}, {'re', 'lg'}, {'ak', 'end'}, {'WP', 're'}, {'CG', 'bj'}, {'qx', 'start'}, {'WP', 'bj'}, {'JG', 'lg'}, {'lg', 'end'}, {'iw', 'lg'}]\n"
     ]
    }
   ],
   "source": [
    "with open(\"/home/curt/Downloads/input12.txt\", newline=\"\\n\") as f:\n",
    "    raw_data = f.read().splitlines()\n",
    "    \n",
    "print(raw_data)\n",
    "data = [set(l.partition('-')[:3:2]) for l in raw_data]\n",
    "print(data)"
   ]
  },
  {
   "cell_type": "code",
   "execution_count": 226,
   "metadata": {},
   "outputs": [
    {
     "name": "stdout",
     "output_type": "stream",
     "text": [
      "3230\n"
     ]
    }
   ],
   "source": [
    "paths = []\n",
    "\n",
    "def path_find(current_path, edges):\n",
    "    global paths\n",
    "    for edge in edges:\n",
    "        if current_path[-1] in edge:\n",
    "            if 'end' in edge:\n",
    "                paths.append(current_path+['end'])\n",
    "            else:\n",
    "                node = list(edge^{current_path[-1]})\n",
    "                #print(f\"{current_path}---{node} ==== {current_path.count(node[-1])}\")\n",
    "                if node[-1].isupper() or node[-1] not in current_path:\n",
    "                    path_find(current_path+node, edges)\n",
    "    \n",
    "\n",
    "def find_paths(data):\n",
    "    edges = [n for n in data if not 'start' in n] \n",
    "    for start_edge in [n for n in data if 'start' in n]:\n",
    "        path_find(['start']+list(start_edge^{'start',}), edges)\n",
    "\n",
    "find_paths(data)\n",
    "for n, path in enumerate(paths):\n",
    "    #print(f\"{n}: {', '.join(path)}\")\n",
    "    pass\n",
    "print(len(paths))"
   ]
  },
  {
   "cell_type": "code",
   "execution_count": 227,
   "metadata": {},
   "outputs": [
    {
     "name": "stdout",
     "output_type": "stream",
     "text": [
      "83475\n"
     ]
    }
   ],
   "source": [
    "from collections import Counter\n",
    "paths = []\n",
    "\n",
    "def path_find(current_path, edges):\n",
    "    global paths\n",
    "    for edge in edges:\n",
    "        node = list(edge^{current_path[-1]})\n",
    "        l_caves = Counter([c for c in current_path if c.islower() and len(c)<3])\n",
    "        llt = all(c<3 for c in l_caves.values()) and sum(c==2 for c in l_caves.values())<2\n",
    "        if current_path[-1] in edge:\n",
    "            if 'end' in edge and llt:\n",
    "                paths.append(current_path+['end'])\n",
    "            else:\n",
    "                #print(f\"{current_path}---{node} ==== {current_path.count(node[-1])}\")\n",
    "                if node[-1].isupper() or llt:\n",
    "                    path_find(current_path+node, edges)\n",
    "    \n",
    "def find_paths(data):\n",
    "    edges = [n for n in data if not 'start' in n]\n",
    "    for start_edge in [n for n in data if 'start' in n]:\n",
    "        path_find(['start']+list(start_edge^{'start',}), edges)\n",
    "\n",
    "find_paths(data)\n",
    "for n, path in enumerate(paths):\n",
    "    #print(f\"{n}: {', '.join(path)}\")\n",
    "    pass\n",
    "print(len(paths))"
   ]
  }
 ],
 "metadata": {
  "interpreter": {
   "hash": "767d51c1340bd893661ea55ea3124f6de3c7a262a8b4abca0554b478b1e2ff90"
  },
  "kernelspec": {
   "display_name": "Python 3.10.1 64-bit",
   "language": "python",
   "name": "python3"
  },
  "language_info": {
   "codemirror_mode": {
    "name": "ipython",
    "version": 3
   },
   "file_extension": ".py",
   "mimetype": "text/x-python",
   "name": "python",
   "nbconvert_exporter": "python",
   "pygments_lexer": "ipython3",
   "version": "3.10.1"
  },
  "orig_nbformat": 4
 },
 "nbformat": 4,
 "nbformat_minor": 2
}
