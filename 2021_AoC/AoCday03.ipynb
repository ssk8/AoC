{
 "cells": [
  {
   "cell_type": "code",
   "execution_count": 23,
   "id": "bd1816d0-12b6-465c-bbf2-488059108535",
   "metadata": {},
   "outputs": [],
   "source": [
    "with open(\"/home/curt/Downloads/input3.txt\", 'r') as f:\n",
    "    data = f.read().splitlines()"
   ]
  },
  {
   "cell_type": "code",
   "execution_count": 1,
   "id": "8ef20d9d-72e3-44c1-974c-5c442748d3de",
   "metadata": {},
   "outputs": [],
   "source": [
    "test_data = [\"00100\",\n",
    "\"11110\",\n",
    "\"10110\",\n",
    "\"10111\",\n",
    "\"10101\",\n",
    "\"01111\",\n",
    "\"00111\",\n",
    "\"11100\",\n",
    "\"10000\",\n",
    "\"11001\",\n",
    "\"00010\",\n",
    "\"01010\"]"
   ]
  },
  {
   "cell_type": "code",
   "execution_count": null,
   "id": "5639ca1c-5b65-40bb-b794-2a91011b10a6",
   "metadata": {},
   "outputs": [],
   "source": [
    "counts = [0]*len(data[0])\n",
    "for line in data:\n",
    "    for n, v in enumerate(line):\n",
    "        counts[n]+=int(v) or -1"
   ]
  },
  {
   "cell_type": "code",
   "execution_count": 26,
   "id": "786169ac-e793-4341-aea7-1e26d3ea7501",
   "metadata": {},
   "outputs": [
    {
     "data": {
      "text/plain": [
       "3549854"
      ]
     },
     "execution_count": 26,
     "metadata": {},
     "output_type": "execute_result"
    }
   ],
   "source": [
    "int(''.join(str(int(c>0)) for c in counts), 2)*int(''.join(str(int(c<0)) for c in counts), 2)"
   ]
  },
  {
   "cell_type": "code",
   "execution_count": 58,
   "id": "885bbd4c-b3c3-4840-9ccf-9340f1793953",
   "metadata": {},
   "outputs": [],
   "source": [
    "def most_common(data_list, bit):\n",
    "    mc = 0\n",
    "    for line in data_list:\n",
    "        mc+=int(line[bit]==\"1\") or -1\n",
    "    return int(mc>=0)"
   ]
  },
  {
   "cell_type": "code",
   "execution_count": 59,
   "id": "152a7ac4-10bc-444b-826d-8fcd895e21a5",
   "metadata": {},
   "outputs": [
    {
     "data": {
      "text/plain": [
       "3765399"
      ]
     },
     "execution_count": 59,
     "metadata": {},
     "output_type": "execute_result"
    }
   ],
   "source": [
    "this_data = data\n",
    "ogr_l = this_data.copy()\n",
    "csr_l = this_data.copy()\n",
    "\n",
    "for n in range(len(this_data[0])):\n",
    "    mc = most_common(ogr_l, n)\n",
    "    for _ in range(len(ogr_l)):\n",
    "        if len(ogr_l)==1:\n",
    "            break\n",
    "        cn = ogr_l.pop(0)\n",
    "        if cn[n]==str(mc):\n",
    "            ogr_l.append(cn)\n",
    "            \n",
    "for n in range(len(this_data[0])):\n",
    "    mc = most_common(csr_l, n)\n",
    "    for _ in range(len(csr_l)):\n",
    "        if len(csr_l)==1:\n",
    "            break\n",
    "        cn = csr_l.pop(0)\n",
    "        if cn[n]!=str(mc):\n",
    "            csr_l.append(cn)\n",
    "\n",
    "int(ogr_l[0], 2)*int(csr_l[0], 2)"
   ]
  },
  {
   "cell_type": "code",
   "execution_count": null,
   "id": "dc11484f-7a43-4434-8944-f6b248311006",
   "metadata": {},
   "outputs": [],
   "source": []
  }
 ],
 "metadata": {
  "kernelspec": {
   "display_name": "Python 3 (ipykernel)",
   "language": "python",
   "name": "python3"
  },
  "language_info": {
   "codemirror_mode": {
    "name": "ipython",
    "version": 3
   },
   "file_extension": ".py",
   "mimetype": "text/x-python",
   "name": "python",
   "nbconvert_exporter": "python",
   "pygments_lexer": "ipython3",
   "version": "3.9.9"
  }
 },
 "nbformat": 4,
 "nbformat_minor": 5
}
