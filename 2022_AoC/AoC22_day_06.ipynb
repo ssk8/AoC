{
 "cells": [
  {
   "cell_type": "code",
   "execution_count": 3,
   "metadata": {},
   "outputs": [
    {
     "data": {
      "text/plain": [
       "''"
      ]
     },
     "execution_count": 3,
     "metadata": {},
     "output_type": "execute_result"
    }
   ],
   "source": [
    "day = \"06\"\n",
    "file = f\"/home/curt/Downloads/input{day}.txt\"\n",
    "#file = f\"/home/curt/Documents/AoC/2022_AoC/input{day}_test.txt\"\n",
    "\n",
    "with open(file, 'r') as f:\n",
    "    data = f.read().split(\"\\n\")\n",
    "data.pop()"
   ]
  },
  {
   "cell_type": "code",
   "execution_count": 7,
   "metadata": {},
   "outputs": [
    {
     "name": "stdout",
     "output_type": "stream",
     "text": [
      "2665\n"
     ]
    }
   ],
   "source": [
    "n = 14\n",
    "\n",
    "def find_mark(signal):\n",
    "    pos_mark = []\n",
    "    for i, c in enumerate(signal):\n",
    "        if len(pos_mark) < n: pos_mark.insert(0, c)\n",
    "        elif len(set(pos_mark)) == n: return i \n",
    "        else:\n",
    "            pos_mark.insert(0, c)\n",
    "            pos_mark.pop()\n",
    "\n",
    "for sig in data:\n",
    "    print(find_mark(sig))"
   ]
  }
 ],
 "metadata": {
  "kernelspec": {
   "display_name": "Python 3.10.8 64-bit",
   "language": "python",
   "name": "python3"
  },
  "language_info": {
   "codemirror_mode": {
    "name": "ipython",
    "version": 3
   },
   "file_extension": ".py",
   "mimetype": "text/x-python",
   "name": "python",
   "nbconvert_exporter": "python",
   "pygments_lexer": "ipython3",
   "version": "3.10.8"
  },
  "orig_nbformat": 4,
  "vscode": {
   "interpreter": {
    "hash": "767d51c1340bd893661ea55ea3124f6de3c7a262a8b4abca0554b478b1e2ff90"
   }
  }
 },
 "nbformat": 4,
 "nbformat_minor": 2
}
