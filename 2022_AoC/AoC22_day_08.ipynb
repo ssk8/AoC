{
 "cells": [
  {
   "cell_type": "code",
   "execution_count": 120,
   "metadata": {},
   "outputs": [
    {
     "data": {
      "text/plain": [
       "''"
      ]
     },
     "execution_count": 120,
     "metadata": {},
     "output_type": "execute_result"
    }
   ],
   "source": [
    "day = \"08\"\n",
    "file = f\"/home/curt/Downloads/input{day}.txt\"\n",
    "#file = f\"/home/curt/Documents/AoC/2022_AoC/input{day}_test.txt\"\n",
    "\n",
    "with open(file, 'r') as f:\n",
    "    data = f.read().split(\"\\n\")\n",
    "data.pop()"
   ]
  },
  {
   "cell_type": "code",
   "execution_count": 121,
   "metadata": {},
   "outputs": [],
   "source": [
    "import numpy as np"
   ]
  },
  {
   "cell_type": "code",
   "execution_count": 122,
   "metadata": {},
   "outputs": [
    {
     "name": "stdout",
     "output_type": "stream",
     "text": [
      "[[0 0 0 ... 2 2 2]\n",
      " [2 2 1 ... 2 2 0]\n",
      " [1 2 2 ... 2 0 2]\n",
      " ...\n",
      " [0 2 0 ... 0 1 1]\n",
      " [1 0 0 ... 0 1 0]\n",
      " [0 2 2 ... 1 2 1]]\n",
      "1785\n"
     ]
    }
   ],
   "source": [
    "tm = np.array([[int(t) for t in l] for l in data])\n",
    "tm[:,0]\n",
    "print(tm)\n",
    "v = tm.shape[0]*2+tm.shape[1]*2-4\n",
    "for y in range(1, tm.shape[0]-1):\n",
    "    for x in range(1, tm.shape[1]-1):\n",
    "        t, e, n, w, s = tm[y,x], tm[y, :x], tm[:y,x], tm[y,x+1:], tm[y+1:,x]\n",
    "        v+=t>min(max(e), max(w), max(n), max(s))\n",
    "print(v)"
   ]
  },
  {
   "cell_type": "markdown",
   "metadata": {},
   "source": [
    "# Part Two"
   ]
  },
  {
   "cell_type": "code",
   "execution_count": 123,
   "metadata": {},
   "outputs": [
    {
     "name": "stdout",
     "output_type": "stream",
     "text": [
      "345168\n"
     ]
    }
   ],
   "source": [
    "def tv(tree, row):\n",
    "    for i, nt in enumerate(row, 1):\n",
    "        if nt>=tree: return i\n",
    "    return i\n",
    "\n",
    "sceninc_scores = []\n",
    "for y in range(1, tm.shape[0]-1):\n",
    "    for x in range(1, tm.shape[1]-1):\n",
    "        t, e, n, w, s = tm[y,x], tm[y, :x], tm[:y,x], tm[y,x+1:], tm[y+1:,x]\n",
    "        sceninc_scores.append(tv(t, e[::-1])*tv(t, w)*tv(t, n[::-1])*tv(t, s))\n",
    "print(max(sceninc_scores))"
   ]
  }
 ],
 "metadata": {
  "kernelspec": {
   "display_name": "Python 3.10.8 64-bit",
   "language": "python",
   "name": "python3"
  },
  "language_info": {
   "codemirror_mode": {
    "name": "ipython",
    "version": 3
   },
   "file_extension": ".py",
   "mimetype": "text/x-python",
   "name": "python",
   "nbconvert_exporter": "python",
   "pygments_lexer": "ipython3",
   "version": "3.10.8"
  },
  "orig_nbformat": 4,
  "vscode": {
   "interpreter": {
    "hash": "767d51c1340bd893661ea55ea3124f6de3c7a262a8b4abca0554b478b1e2ff90"
   }
  }
 },
 "nbformat": 4,
 "nbformat_minor": 2
}
