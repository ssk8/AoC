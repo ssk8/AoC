{
 "cells": [
  {
   "cell_type": "code",
   "execution_count": 2,
   "metadata": {},
   "outputs": [
    {
     "name": "stdout",
     "output_type": "stream",
     "text": [
      "2000\n"
     ]
    }
   ],
   "source": [
    "day = \"09\"\n",
    "file = f\"/home/curt/Downloads/input{day}.txt\"\n",
    "#file = f\"/home/curt/Documents/AoC/2022_AoC/input{day}_test.txt\"\n",
    "\n",
    "with open(file, 'r') as f:\n",
    "    data = [(l[0], int(l[2:])) for l in f.read().split(\"\\n\")[:-1]]\n",
    "\n",
    "print(len(data))\n",
    "#print(data)"
   ]
  },
  {
   "cell_type": "code",
   "execution_count": 28,
   "metadata": {},
   "outputs": [
    {
     "name": "stdout",
     "output_type": "stream",
     "text": [
      "2000\n",
      "[('U', 1), ('L', 1), ('R', 2), ('L', 1)] [('L', 16), ('D', 14), ('U', 6), ('D', 6)]\n",
      "5907\n"
     ]
    }
   ],
   "source": [
    "class Possition:\n",
    "    def __init__(self, x, y) -> None:\n",
    "        self.x = x\n",
    "        self.y = y\n",
    "    \n",
    "    def __repr__(self) -> str:\n",
    "        return f'{self.x}, {self.y}'\n",
    "\n",
    "    def move(self, dir, dist) -> None:\n",
    "       self.x += ((dir=='R')-(dir=='L'))*dist\n",
    "       self.y += ((dir=='U')-(dir=='D'))*dist\n",
    "\n",
    "\n",
    "class Rope:\n",
    "    def __init__(self) -> None:\n",
    "        self.head = Possition(0, 0)\n",
    "        self.tail = Possition(0, 0)\n",
    "\n",
    "    def update_tail(self):\n",
    "        tx, hx, ty, hy = self.tail.x, self.head.x, self.tail.y, self.head.y\n",
    "        if abs(tx-hx)>1:\n",
    "            self.tail.x = hx+(tx-hx)//abs(tx-hx)\n",
    "            if ty!=hy: self.tail.y = hy\n",
    "        if abs(ty-hy)>1:\n",
    "            self.tail.y = hy+(ty-hy)//abs(ty-hy)\n",
    "            if tx!=hx: self.tail.x = hx\n",
    "\n",
    "\n",
    "\n",
    "rope = Rope()\n",
    "visited = {repr(rope.tail),}\n",
    "\n",
    "#data = [('R', 4), ('U', 4), ('L', 3), ('D', 1), ('R', 4), ('D', 1), ('L', 5), ('R', 2)]\n",
    "\n",
    "print(len(data))\n",
    "print(data[:4], data[-4:])\n",
    "\n",
    "for dir, steps in data:\n",
    "    for _ in range(steps):\n",
    "        rope.head.move(dir, 1)\n",
    "        rope.update_tail()\n",
    "        visited.add(str(rope.tail))\n",
    "\n",
    "print(len(visited))"
   ]
  },
  {
   "cell_type": "markdown",
   "metadata": {},
   "source": [
    "# Part Two"
   ]
  },
  {
   "cell_type": "code",
   "execution_count": null,
   "metadata": {},
   "outputs": [],
   "source": [
    "class Possition:\n",
    "    def __init__(self, x, y) -> None:\n",
    "        self.x = x\n",
    "        self.y = y\n",
    "    \n",
    "    def __repr__(self) -> str:\n",
    "        return f'{self.x}, {self.y}'\n",
    "\n",
    "    def move(self, dir, dist) -> None:\n",
    "       self.x += ((dir=='R')-(dir=='L'))*dist\n",
    "       self.y += ((dir=='U')-(dir=='D'))*dist\n",
    "\n",
    "\n",
    "class Rope:\n",
    "    def __init__(self) -> None:\n",
    "        self.head = Possition(0, 0)\n",
    "        self.tail = [Possition(0, 0), Possition(0, 0), Possition(0, 0), Possition(0, 0), Possition(0, 0), Possition(0, 0), Possition(0, 0), Possition(0, 0), Possition(0, 0)] \n",
    "\n",
    "    def update_tail(self):\n",
    "        for n in range(len(self.tail)):\n",
    "            if n==0: tx, hx, ty, hy = self.tail[n].x, self.head.x, self.tail[n].y, self.head.y\n",
    "            else: tx, hx, ty, hy = self.tail[n].x, self.tail[n-1].x, self.tail[n].y, self.tail[n-1].y\n",
    "            if abs(tx-hx)>1:\n",
    "                self.tail[n].x = hx+(tx-hx)//abs(tx-hx)\n",
    "                if ty!=hy: self.tail[n].y = hy\n",
    "            if abs(ty-hy)>1:\n",
    "                self.tail[n].y = hy+(ty-hy)//abs(ty-hy)\n",
    "                if tx!=hx: self.tail[n].x = hx\n",
    "\n",
    "\n",
    "\n",
    "rope = Rope()\n",
    "visited = set()\n",
    "\n",
    "#data = [('R', 4), ('U', 4), ('L', 3), ('D', 1), ('R', 4), ('D', 1), ('L', 5), ('R', 2)]\n",
    "#data = [('R', 5), ('U', 8), ('L', 8), ('D', 3), ('R', 17), ('D', 10), ('L', 25), ('U', 20)]\n",
    "\n",
    "print(len(data))\n",
    "print(data[:4], data[-4:])\n",
    "\n",
    "for dir, steps in data:\n",
    "    for _ in range(steps):\n",
    "        rope.head.move(dir, 1)\n",
    "        rope.update_tail()\n",
    "        visited.add((rope.tail[8].x, rope.tail[8].y))\n",
    "\n",
    "print(len(visited))\n"
   ]
  },
  {
   "cell_type": "code",
   "execution_count": 26,
   "metadata": {},
   "outputs": [
    {
     "name": "stdout",
     "output_type": "stream",
     "text": [
      "........................\n",
      "........................\n",
      "........................\n",
      "........................\n",
      "........................\n",
      "........................\n",
      ".#......................\n",
      ".#.............###......\n",
      ".#............#...#.....\n",
      "..#..........#.....#....\n",
      "...#..........#.....#...\n",
      "....#........#.......#..\n",
      ".....#......#.........#.\n",
      "......#..............#..\n",
      ".......#............#...\n",
      "........#..........#....\n",
      ".........#........#.....\n",
      "..........########......\n",
      "........................\n",
      "........................\n",
      "........................\n",
      "........................\n",
      "........................\n",
      "........................\n"
     ]
    }
   ],
   "source": [
    "\n",
    "\n",
    "v = {(3, -5), (-11, 5), (5, -5), (-6, -1), (10, 0), (2, 2), (-9, 2), (-8, 1), (1, 3), (6, -4), (-1, -5), (-2, -5), (-11, 4), (-10, 3), (4, 5), (9, -1), (0, -5), (8, 2), (-3, -4), (9, 1), (2, -5), (2, 4), (7, -3), (-4, -3), (6, 4), (7, 3), (4, -5), (-11, 6), (-5, -2), (3, 5), (5, 5), (8, -2), (0, 0), (1, -5), (1, 1), (-7, 0)}\n",
    "\n",
    "for y in range(12, -12, -1):\n",
    "    for x in range(-12,12):\n",
    "        if (x,y) in v:\n",
    "            print(\"#\",end='')\n",
    "        else: print('.',end='')\n",
    "    print()"
   ]
  },
  {
   "cell_type": "code",
   "execution_count": 3,
   "metadata": {},
   "outputs": [
    {
     "name": "stdout",
     "output_type": "stream",
     "text": [
      "2303\n"
     ]
    }
   ],
   "source": [
    "with open(file, 'r') as f:\n",
    "    data = open(file).read().strip()\n",
    "    lines = [x for x in data.split('\\n')]\n",
    "\n",
    "def adjust(H,T):\n",
    "    dr = (H[0]-T[0])\n",
    "    dc = (H[1]-T[1])\n",
    "    if abs(dr)>=2 and abs(dc)>1:\n",
    "        T = (H[0]-1 if T[0]<H[0] else H[0]+1, H[1]-1 if T[1]<H[1] else H[1]+1)\n",
    "    elif abs(dr)>1:\n",
    "        T = (H[0]-1 if T[0]<H[0] else H[0]+1, H[1])\n",
    "    elif abs(dc)>=2:\n",
    "        T = (H[0], H[1]-1 if T[1]<H[1] else H[1]+1)\n",
    "    return T\n",
    "\n",
    "H = (0,0)\n",
    "T = [(0,0) for _ in range(9)]\n",
    "DR = {'L': 0, 'U': -1, 'R': 0, 'D': 1}\n",
    "DC = {'L': -1, 'U': 0, 'R': 1, 'D': 0}\n",
    "P = set([T[8]])\n",
    "for line in lines:\n",
    "    d,amt = line.split()\n",
    "    amt = int(amt)\n",
    "    for _ in range(amt):\n",
    "        H = (H[0] + DR[d], H[1]+DC[d])\n",
    "        T[0] = adjust(H, T[0])\n",
    "        for i in range(1, 9):\n",
    "            T[i] = adjust(T[i-1], T[i])\n",
    "        P.add(T[8])\n",
    "\n",
    "print(len(P))"
   ]
  }
 ],
 "metadata": {
  "kernelspec": {
   "display_name": "Python 3.10.8 64-bit",
   "language": "python",
   "name": "python3"
  },
  "language_info": {
   "codemirror_mode": {
    "name": "ipython",
    "version": 3
   },
   "file_extension": ".py",
   "mimetype": "text/x-python",
   "name": "python",
   "nbconvert_exporter": "python",
   "pygments_lexer": "ipython3",
   "version": "3.10.8 (main, Nov  1 2022, 14:18:21) [GCC 12.2.0]"
  },
  "orig_nbformat": 4,
  "vscode": {
   "interpreter": {
    "hash": "767d51c1340bd893661ea55ea3124f6de3c7a262a8b4abca0554b478b1e2ff90"
   }
  }
 },
 "nbformat": 4,
 "nbformat_minor": 2
}
