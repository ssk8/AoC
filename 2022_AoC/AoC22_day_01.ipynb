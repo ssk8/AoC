{
 "cells": [
  {
   "cell_type": "code",
   "execution_count": null,
   "id": "587ff1ca-c84b-460b-b98f-b9bc0d2fd4d0",
   "metadata": {},
   "outputs": [],
   "source": [
    "with open(\"/home/curt/Downloads/input1.txt\", 'r') as f:\n",
    "    data = f.read().split(\"\\n\")"
   ]
  },
  {
   "cell_type": "code",
   "execution_count": null,
   "id": "a0ed13c5-e320-442a-a65c-997217922edd",
   "metadata": {},
   "outputs": [],
   "source": [
    "calper = [[]]\n",
    "for cal in data:\n",
    "    if cal: calper[-1].append(int(cal))\n",
    "    else: calper.append([])"
   ]
  },
  {
   "cell_type": "code",
   "execution_count": null,
   "id": "ac30cab1-8b7d-4ee2-9f73-5a81af7dfdac",
   "metadata": {},
   "outputs": [],
   "source": [
    "max([sum(c) for c in calper])"
   ]
  },
  {
   "cell_type": "code",
   "execution_count": null,
   "id": "c8b7f4e4-c891-4ca6-bb5a-3bde025c0eb9",
   "metadata": {},
   "outputs": [],
   "source": [
    "sum(sorted([sum(c) for c in calper])[-3:])"
   ]
  }
 ],
 "metadata": {
  "kernelspec": {
   "display_name": "Python 3.10.8 64-bit",
   "language": "python",
   "name": "python3"
  },
  "language_info": {
   "codemirror_mode": {
    "name": "ipython",
    "version": 3
   },
   "file_extension": ".py",
   "mimetype": "text/x-python",
   "name": "python",
   "nbconvert_exporter": "python",
   "pygments_lexer": "ipython3",
   "version": "3.10.8"
  },
  "vscode": {
   "interpreter": {
    "hash": "767d51c1340bd893661ea55ea3124f6de3c7a262a8b4abca0554b478b1e2ff90"
   }
  }
 },
 "nbformat": 4,
 "nbformat_minor": 5
}
