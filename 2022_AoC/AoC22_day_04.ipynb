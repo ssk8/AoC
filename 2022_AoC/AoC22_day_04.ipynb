{
 "cells": [
  {
   "cell_type": "code",
   "execution_count": 1,
   "metadata": {},
   "outputs": [],
   "source": [
    "day = 4\n",
    "file = f\"/home/curt/Downloads/input{day}.txt\"\n",
    "#file = f\"/home/curt/Documents/AoC/2022_AoC/input{day}_test.txt\"\n",
    "\n",
    "with open(file, 'r') as f:\n",
    "    data = f.read().split(\"\\n\")\n",
    "data.pop()\n",
    "intervals = [[[int(j) for j in i.split('-')] for i in d.split(',')] for d in data]"
   ]
  },
  {
   "cell_type": "code",
   "execution_count": null,
   "metadata": {},
   "outputs": [],
   "source": [
    "def contained_by(p1, p2):\n",
    "    return p1[0]<=p2[0] and p1[1]>=p2[1]\n",
    "\n",
    "def contains(p1, p2):\n",
    "    return contained_by(p1, p2) or contained_by(p2, p1)\n",
    "\n",
    "sum(contains(*a) for a in intervals)"
   ]
  },
  {
   "cell_type": "markdown",
   "metadata": {},
   "source": [
    "# Part Two"
   ]
  },
  {
   "cell_type": "code",
   "execution_count": null,
   "metadata": {},
   "outputs": [],
   "source": [
    "def contained_by(p1, p2):\n",
    "    return p2[0]<=p1[0]<=p2[1] or p2[0]<=p1[1]<=p2[1]\n",
    "\n",
    "def contains(p1, p2):\n",
    "    return contained_by(p1, p2) or contained_by(p2, p1)\n",
    "\n",
    "sum(contains(*a) for a in intervals)"
   ]
  }
 ],
 "metadata": {
  "kernelspec": {
   "display_name": "Python 3.10.8 64-bit",
   "language": "python",
   "name": "python3"
  },
  "language_info": {
   "codemirror_mode": {
    "name": "ipython",
    "version": 3
   },
   "file_extension": ".py",
   "mimetype": "text/x-python",
   "name": "python",
   "nbconvert_exporter": "python",
   "pygments_lexer": "ipython3",
   "version": "3.10.8"
  },
  "orig_nbformat": 4,
  "vscode": {
   "interpreter": {
    "hash": "767d51c1340bd893661ea55ea3124f6de3c7a262a8b4abca0554b478b1e2ff90"
   }
  }
 },
 "nbformat": 4,
 "nbformat_minor": 2
}
