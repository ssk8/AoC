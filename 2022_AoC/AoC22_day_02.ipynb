{
 "cells": [
  {
   "cell_type": "code",
   "execution_count": null,
   "metadata": {},
   "outputs": [],
   "source": [
    "from itertools import combinations as combos"
   ]
  },
  {
   "cell_type": "code",
   "execution_count": null,
   "metadata": {},
   "outputs": [],
   "source": [
    "p1, p2 = \"ABC\", \"XYZ\"\n",
    "bonus = {k:v for k,v in zip(p2, (1,2,3))}\n",
    "scoring = {k:v for k,v in zip('ldw', (0,3,6))}\n",
    "pos_games = [f'{p1t} {p2t}' for p1t, p2t in combos(p1+p2, 2) if p1t in p1 and p2t in p2]\n",
    "outcome = {k:v for k,v in zip(pos_games, 'dwlldwwld')}\n",
    "\n",
    "test_data = [\"A Y\", \"B X\", \"C Z\"]\n",
    "score = sum([scoring[outcome[g]]+bonus[g[2]] for g in test_data])\n",
    "score"
   ]
  },
  {
   "cell_type": "code",
   "execution_count": null,
   "metadata": {},
   "outputs": [],
   "source": [
    "with open(\"/home/curt/Downloads/input2.txt\", 'r') as f:\n",
    "    data = f.read().split(\"\\n\")\n",
    "sum([scoring[outcome[g]]+bonus[g[2]] for g in data[:-1]])"
   ]
  },
  {
   "cell_type": "markdown",
   "metadata": {},
   "source": [
    "# Part II"
   ]
  },
  {
   "cell_type": "code",
   "execution_count": null,
   "metadata": {},
   "outputs": [],
   "source": [
    "p1, p2 = \"ABC\", \"XYZ\"\n",
    "print(pos_games )\n",
    "trans = ['A Z', 'A X', 'A Y', 'B X', 'B Y', 'B Z', 'C Y', 'C Z', 'C X']\n",
    "convert = {k:v for k,v in zip(pos_games, trans)}\n",
    "test_data = [\"A Y\", \"B X\", \"C Z\"]\n",
    "test_data = [convert[g] for g in test_data]\n",
    "sum([scoring[outcome[g]]+bonus[g[2]] for g in test_data])"
   ]
  },
  {
   "cell_type": "code",
   "execution_count": null,
   "metadata": {},
   "outputs": [],
   "source": [
    "converted = [convert[g] for g in data[:-1]]\n",
    "sum([scoring[outcome[g]]+bonus[g[2]] for g in converted])"
   ]
  }
 ],
 "metadata": {
  "kernelspec": {
   "display_name": "Python 3.10.8 64-bit",
   "language": "python",
   "name": "python3"
  },
  "language_info": {
   "codemirror_mode": {
    "name": "ipython",
    "version": 3
   },
   "file_extension": ".py",
   "mimetype": "text/x-python",
   "name": "python",
   "nbconvert_exporter": "python",
   "pygments_lexer": "ipython3",
   "version": "3.10.8"
  },
  "orig_nbformat": 4,
  "vscode": {
   "interpreter": {
    "hash": "767d51c1340bd893661ea55ea3124f6de3c7a262a8b4abca0554b478b1e2ff90"
   }
  }
 },
 "nbformat": 4,
 "nbformat_minor": 2
}
