{
 "cells": [
  {
   "cell_type": "code",
   "execution_count": 2,
   "metadata": {},
   "outputs": [],
   "source": [
    "day = 5\n",
    "file = f\"/home/curt/Downloads/input{day}.txt\"\n",
    "#file = f\"/home/curt/Documents/AoC/2022_AoC/input{day}_test.txt\"\n",
    "\n",
    "with open(file, 'r') as f:\n",
    "    data = f.read().split(\"\\n\")\n",
    "data.pop()\n",
    "\n",
    "for ln, line in enumerate(data):\n",
    "    if line.replace(' ','').isnumeric(): \n",
    "        n_stacks, bottom = len(line.split()), ln\n",
    "\n",
    "stacks = [[] for _ in range(n_stacks)]\n",
    "for row in data[:bottom]:\n",
    "    row = \"{:<80}\".format(row)\n",
    "    for i, p in enumerate([row[c] for c in range(1, n_stacks*4, 4)]):\n",
    "        if p!=' ': stacks[i].insert(0,p)\n",
    "\n",
    "rp = [[int(p.split()[n]) for n in range(1,6,2)] for p in data[bottom+2:]]"
   ]
  },
  {
   "cell_type": "code",
   "execution_count": null,
   "metadata": {},
   "outputs": [],
   "source": [
    "def move(procedure):\n",
    "    n, f, t = procedure\n",
    "    for _ in range(n):\n",
    "        stacks[t-1]+=stacks[f-1].pop()\n",
    "\n",
    "for p in rp:\n",
    "    move(p)\n",
    "\n",
    "print(''.join([f'{s[-1] if s else \" \"}' for s in stacks]))"
   ]
  },
  {
   "cell_type": "markdown",
   "metadata": {},
   "source": [
    "# Part Two"
   ]
  },
  {
   "cell_type": "code",
   "execution_count": null,
   "metadata": {},
   "outputs": [],
   "source": [
    "def move(procedure):\n",
    "    n, f, t = procedure\n",
    "    stacks[f-1], m = stacks[f-1][:-n], stacks[f-1][-n:]\n",
    "    stacks[t-1]+=m\n",
    "\n",
    "for p in rp:\n",
    "    move(p)\n",
    "\n",
    "print(''.join([f'{s[-1] if s else \" \"}' for s in stacks]))\n"
   ]
  }
 ],
 "metadata": {
  "kernelspec": {
   "display_name": "Python 3.10.8 64-bit",
   "language": "python",
   "name": "python3"
  },
  "language_info": {
   "codemirror_mode": {
    "name": "ipython",
    "version": 3
   },
   "file_extension": ".py",
   "mimetype": "text/x-python",
   "name": "python",
   "nbconvert_exporter": "python",
   "pygments_lexer": "ipython3",
   "version": "3.10.8"
  },
  "orig_nbformat": 4,
  "vscode": {
   "interpreter": {
    "hash": "767d51c1340bd893661ea55ea3124f6de3c7a262a8b4abca0554b478b1e2ff90"
   }
  }
 },
 "nbformat": 4,
 "nbformat_minor": 2
}
