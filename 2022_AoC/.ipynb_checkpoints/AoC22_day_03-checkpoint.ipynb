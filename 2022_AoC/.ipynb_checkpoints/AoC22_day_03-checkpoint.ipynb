{
 "cells": [
  {
   "cell_type": "code",
   "execution_count": null,
   "metadata": {},
   "outputs": [],
   "source": [
    "with open(\"/home/curt/Downloads/input3.txt\", 'r') as f:\n",
    "    data = f.read().split(\"\\n\")\n",
    "data.pop()"
   ]
  },
  {
   "cell_type": "code",
   "execution_count": null,
   "metadata": {},
   "outputs": [],
   "source": [
    "with open(\"/home/curt/Documents/AoC/2022_AoC/input3_test.txt\", 'r') as f:\n",
    "    data = f.read().split(\"\\n\")\n",
    "data.pop()"
   ]
  },
  {
   "cell_type": "code",
   "execution_count": null,
   "metadata": {},
   "outputs": [],
   "source": [
    "from string import ascii_lowercase as lc\n",
    "from string import ascii_uppercase as uc\n",
    "\n",
    "priority = {k:v for k,v in zip(lc+uc, range(1,53))}"
   ]
  },
  {
   "cell_type": "code",
   "execution_count": null,
   "metadata": {},
   "outputs": [],
   "source": [
    "contents = [(sac[:(cl:=len(sac)//2)], sac[cl:]) for sac in data]\n",
    "\n",
    "spec_item = [list(set(c1)&set(c2))[0] for c1, c2 in contents]\n",
    "\n",
    "score = [priority[i] for i in spec_item]\n",
    "sum(score)"
   ]
  },
  {
   "cell_type": "markdown",
   "metadata": {},
   "source": [
    "# Part II"
   ]
  },
  {
   "cell_type": "code",
   "execution_count": null,
   "metadata": {},
   "outputs": [],
   "source": [
    "total = 0\n",
    "print(f'{len(data)=}')\n",
    "for n in range(0, len(data), 3):\n",
    "    si = list(set(data[n])&set(data[n+1])&set(data[n+2]))\n",
    "    total+=priority[si[0]]\n",
    "\n",
    "print(total)"
   ]
  }
 ],
 "metadata": {
  "kernelspec": {
   "display_name": "Python 3.10.8 64-bit",
   "language": "python",
   "name": "python3"
  },
  "language_info": {
   "codemirror_mode": {
    "name": "ipython",
    "version": 3
   },
   "file_extension": ".py",
   "mimetype": "text/x-python",
   "name": "python",
   "nbconvert_exporter": "python",
   "pygments_lexer": "ipython3",
   "version": "3.10.8"
  },
  "orig_nbformat": 4,
  "vscode": {
   "interpreter": {
    "hash": "767d51c1340bd893661ea55ea3124f6de3c7a262a8b4abca0554b478b1e2ff90"
   }
  }
 },
 "nbformat": 4,
 "nbformat_minor": 2
}
