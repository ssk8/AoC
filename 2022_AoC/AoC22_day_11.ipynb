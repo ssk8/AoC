{
 "cells": [
  {
   "cell_type": "code",
   "execution_count": null,
   "metadata": {},
   "outputs": [],
   "source": [
    "day = 11\n",
    "\n",
    "file = f\"/home/curt/Documents/AoC/2022_AoC/input{day}_test.txt\"\n",
    "file = f\"/home/curt/Downloads/input{day}.txt\"\n",
    "\n",
    "with open(file, 'r') as f:\n",
    "    data = f.read().split(\"\\n\")[:-1]\n",
    "\n",
    "\n",
    "class Monkey:\n",
    "    def __init__(self, items, op, test, ift, iff) -> None:\n",
    "        self.items = items\n",
    "        self.op = op\n",
    "        self.test = int(test)\n",
    "        self.ift = int(ift)\n",
    "        self.iff = int(iff)\n",
    "        self.inspections = 0\n",
    "    \n",
    "    def __repr__(self) -> str:\n",
    "        return f\"{self.items=} {self.op=} {self.test=} {self.ift=} {self.iff=}\"\n",
    "\n",
    "monkeys = []\n",
    "for n in range(0,len(data),7):\n",
    "    items = [int(p.replace(',','')) for p in data[n+1].split()[2:]]\n",
    "    op = data[n+2].split()[4:]\n",
    "    test = data[n+3].split()[-1]\n",
    "    ift = data[n+4].split()[-1]\n",
    "    iff = data[n+5].split()[-1]\n",
    "    monkeys.append(Monkey(items, op, test, ift, iff))\n",
    "\n",
    "print(len(monkeys))"
   ]
  },
  {
   "cell_type": "code",
   "execution_count": null,
   "metadata": {},
   "outputs": [],
   "source": [
    "for _ in range(20):\n",
    "    for monkey in monkeys:\n",
    "        for item in monkey.items:\n",
    "            if monkey.op[1]==\"old\": operand = item\n",
    "            else: operand = int(monkey.op[1])\n",
    "            if monkey.op[0]==\"*\": item*=operand\n",
    "            else: item+=operand\n",
    "            item//=3\n",
    "            if item % monkey.test:\n",
    "                monkeys[monkey.iff].items.append(item)\n",
    "            else: monkeys[monkey.ift].items.append(item)\n",
    "            monkey.inspections+=1\n",
    "        monkey.items=[]\n",
    "\n",
    "\n",
    "print((p:=sorted([m.inspections for m in monkeys])[-2:])[0]*p[1])"
   ]
  },
  {
   "cell_type": "markdown",
   "metadata": {},
   "source": [
    "# Part Two"
   ]
  },
  {
   "cell_type": "code",
   "execution_count": null,
   "metadata": {},
   "outputs": [],
   "source": [
    "mod = 1\n",
    "for p in [m.test for m in monkeys]:mod*=p\n",
    "\n",
    "for _ in range(10000):\n",
    "    for monkey in monkeys:\n",
    "        for item in monkey.items:\n",
    "            if monkey.op[1]==\"old\": operand = item\n",
    "            else: operand = int(monkey.op[1])\n",
    "            if monkey.op[0]==\"*\": item*=operand\n",
    "            else: item+=operand\n",
    "            item%=mod\n",
    "            if item % monkey.test:\n",
    "                monkeys[monkey.iff].items.append(item)\n",
    "            else: monkeys[monkey.ift].items.append(item)\n",
    "            monkey.inspections+=1\n",
    "        monkey.items=[]\n",
    "\n",
    "for monkey in monkeys:\n",
    "    print(monkey.inspections)\n",
    "print((p:=sorted([m.inspections for m in monkeys])[-2:])[0]*p[1])"
   ]
  }
 ],
 "metadata": {
  "kernelspec": {
   "display_name": "Python 3.10.8 64-bit",
   "language": "python",
   "name": "python3"
  },
  "language_info": {
   "codemirror_mode": {
    "name": "ipython",
    "version": 3
   },
   "file_extension": ".py",
   "mimetype": "text/x-python",
   "name": "python",
   "nbconvert_exporter": "python",
   "pygments_lexer": "ipython3",
   "version": "3.10.8"
  },
  "orig_nbformat": 4,
  "vscode": {
   "interpreter": {
    "hash": "767d51c1340bd893661ea55ea3124f6de3c7a262a8b4abca0554b478b1e2ff90"
   }
  }
 },
 "nbformat": 4,
 "nbformat_minor": 2
}
