{
 "cells": [
  {
   "cell_type": "code",
   "execution_count": 57,
   "metadata": {},
   "outputs": [],
   "source": [
    "day = 10\n",
    "file = f\"/home/curt/Downloads/input{day}.txt\"\n",
    "#file = f\"/home/curt/Documents/AoC/2022_AoC/input{day}_test.txt\"\n",
    "\n",
    "import re\n",
    "\n",
    "with open(file, 'r') as f:\n",
    "    #data = f.read().split(\"\\n\")[:-1]\n",
    "    data = re.split('\\n| ',f.read())[:-1]\n"
   ]
  },
  {
   "cell_type": "code",
   "execution_count": 35,
   "metadata": {},
   "outputs": [
    {
     "name": "stdout",
     "output_type": "stream",
     "text": [
      "popop 21 20 420\n",
      "popop 21 60 1260\n",
      "popop 16 100 1600\n",
      "popop 21 140 2940\n",
      "popop 13 180 2340\n",
      "popop 36 220 7920\n",
      "16480\n"
     ]
    }
   ],
   "source": [
    "cycle, x = 0, 1\n",
    "signal_sum = 0\n",
    "\n",
    "for inst in data:\n",
    "    cycle+=1\n",
    "    if not (cycle-20)%40:\n",
    "        print(\"popop\", x, cycle, x*cycle)\n",
    "        signal_sum+=x*cycle\n",
    "    if inst not in ('noop', 'addx'):\n",
    "        x+=int(inst)\n",
    "\n",
    "    \n",
    "print(signal_sum)"
   ]
  },
  {
   "cell_type": "markdown",
   "metadata": {},
   "source": [
    "# Part Two"
   ]
  },
  {
   "cell_type": "code",
   "execution_count": 58,
   "metadata": {},
   "outputs": [
    {
     "name": "stdout",
     "output_type": "stream",
     "text": [
      "\n",
      "###..#....####.####.#..#.#....###..###..\n",
      "#..#.#....#....#....#..#.#....#..#.#..#.\n",
      "#..#.#....###..###..#..#.#....#..#.###..\n",
      "###..#....#....#....#..#.#....###..#..#.\n",
      "#....#....#....#....#..#.#....#....#..#.\n",
      "#....####.####.#.....##..####.#....###.."
     ]
    }
   ],
   "source": [
    "cycle, x = 0, 1\n",
    "\n",
    "for inst in data:\n",
    "    cycle+=1\n",
    "    sprite = ((x-1),x,(x+1))\n",
    "    if not (cycle-1)%40: print()\n",
    "    if inst not in ('noop', 'addx'):\n",
    "        x+=int(inst)\n",
    "    if (cycle-1)%40 in sprite:\n",
    "        print('#',end='')\n",
    "    else: print('.',end='')\n"
   ]
  },
  {
   "cell_type": "code",
   "execution_count": null,
   "metadata": {},
   "outputs": [],
   "source": []
  }
 ],
 "metadata": {
  "kernelspec": {
   "display_name": "Python 3.10.8 64-bit",
   "language": "python",
   "name": "python3"
  },
  "language_info": {
   "codemirror_mode": {
    "name": "ipython",
    "version": 3
   },
   "file_extension": ".py",
   "mimetype": "text/x-python",
   "name": "python",
   "nbconvert_exporter": "python",
   "pygments_lexer": "ipython3",
   "version": "3.10.8"
  },
  "orig_nbformat": 4,
  "vscode": {
   "interpreter": {
    "hash": "767d51c1340bd893661ea55ea3124f6de3c7a262a8b4abca0554b478b1e2ff90"
   }
  }
 },
 "nbformat": 4,
 "nbformat_minor": 2
}
