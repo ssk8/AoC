{
 "cells": [
  {
   "cell_type": "code",
   "execution_count": 5,
   "metadata": {},
   "outputs": [
    {
     "name": "stdout",
     "output_type": "stream",
     "text": [
      "[1,1,3,1,1]\n",
      "[1,1,5,1,1]\n",
      "\n",
      "[[1],[2,3,4]]\n",
      "[[1],4]\n",
      "\n",
      "[9]\n",
      "[[8,7,6]]\n",
      "\n",
      "[[4,4],4,4]\n",
      "[[4,4],4,4,4]\n",
      "\n",
      "[7,7,7,7]\n",
      "[7,7,7]\n",
      "\n",
      "[]\n",
      "[3]\n",
      "\n",
      "[[[]]]\n",
      "[[]]\n",
      "\n",
      "[1,[2,[3,[4,[5,6,7]]]],8,9]\n",
      "[1,[2,[3,[4,[5,6,0]]]],8,9]\n"
     ]
    }
   ],
   "source": [
    "day = 13\n",
    "file = f\"/home/curt/Documents/AoC/2022_AoC/input{day}_test.txt\"\n",
    "#file = f\"/home/curt/Downloads/input{day}.txt\"\n",
    "\n",
    "with open(file, 'r') as f:\n",
    "    data = f.read().split(\"\\n\")[:-1]\n",
    "\n",
    "for line in data:\n",
    "    print(line)"
   ]
  },
  {
   "cell_type": "code",
   "execution_count": null,
   "metadata": {},
   "outputs": [],
   "source": []
  },
  {
   "cell_type": "markdown",
   "metadata": {},
   "source": [
    "# Part Two"
   ]
  },
  {
   "cell_type": "code",
   "execution_count": null,
   "metadata": {},
   "outputs": [],
   "source": []
  }
 ],
 "metadata": {
  "kernelspec": {
   "display_name": "Python 3.10.8 64-bit",
   "language": "python",
   "name": "python3"
  },
  "language_info": {
   "codemirror_mode": {
    "name": "ipython",
    "version": 3
   },
   "file_extension": ".py",
   "mimetype": "text/x-python",
   "name": "python",
   "nbconvert_exporter": "python",
   "pygments_lexer": "ipython3",
   "version": "3.11.5"
  },
  "orig_nbformat": 4,
  "vscode": {
   "interpreter": {
    "hash": "767d51c1340bd893661ea55ea3124f6de3c7a262a8b4abca0554b478b1e2ff90"
   }
  }
 },
 "nbformat": 4,
 "nbformat_minor": 2
}
