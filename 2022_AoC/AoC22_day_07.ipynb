{
 "cells": [
  {
   "cell_type": "code",
   "execution_count": null,
   "metadata": {},
   "outputs": [],
   "source": [
    "day = \"07\"\n",
    "file = f\"/home/curt/Downloads/input{day}.txt\"\n",
    "#file = f\"/home/curt/Documents/AoC/2022_AoC/input{day}_test.txt\"\n",
    "\n",
    "with open(file, 'r') as f:\n",
    "    data = f.read().split(\"\\n\")\n",
    "data.pop()"
   ]
  },
  {
   "cell_type": "code",
   "execution_count": null,
   "metadata": {},
   "outputs": [],
   "source": [
    "from json import dumps as p\n",
    "\n",
    "def add(dr, w, to_add):\n",
    "    if w: add(dr[w[0]], None if len(w) == 1 else w[1:], to_add)\n",
    "    else: dr[to_add[0]] = to_add[1]\n",
    "\n",
    "\n",
    "drive, wd, current = {'/':{}}, [], None\n",
    "\n",
    "for out in (l.split() for l in data):\n",
    "    if out[0] == '$':\n",
    "        if out[1] == 'cd':\n",
    "            if out[2] == '..':\n",
    "                wd.pop()\n",
    "            else:\n",
    "                wd.append(out[2])\n",
    "    elif out[0].isnumeric():\n",
    "        add(drive, wd, (out[1], int(out[0])))\n",
    "    elif out[0] == 'dir':\n",
    "        add(drive, wd, (out[1],{}))\n",
    "        \n",
    "#print(p(drive, indent=2))"
   ]
  },
  {
   "cell_type": "code",
   "execution_count": null,
   "metadata": {},
   "outputs": [],
   "source": [
    "from collections import defaultdict\n",
    "\n",
    "def get_size(dir, path=\"\"):\n",
    "    path = path.split(\"|\")\n",
    "    for k, v in dir.items():\n",
    "        if type(v) == dict:\n",
    "            get_size(v, \"|\".join(path+[k]))\n",
    "        else:\n",
    "            for n in range(len(path)):\n",
    "                dirs[\"|\".join(path[:n+1])]+=v\n",
    "\n",
    "dirs = defaultdict(int)\n",
    "\n",
    "get_size(drive)\n",
    "\n",
    "print(sum((s for s in dirs.values() if s<100000)))"
   ]
  },
  {
   "cell_type": "markdown",
   "metadata": {},
   "source": [
    "# Part Two"
   ]
  },
  {
   "cell_type": "code",
   "execution_count": null,
   "metadata": {},
   "outputs": [],
   "source": [
    "need = max(dirs.values())-70000000+30000000\n",
    "print(min(s for s in dirs.values() if s>need))"
   ]
  }
 ],
 "metadata": {
  "kernelspec": {
   "display_name": "Python 3.10.8 64-bit",
   "language": "python",
   "name": "python3"
  },
  "language_info": {
   "codemirror_mode": {
    "name": "ipython",
    "version": 3
   },
   "file_extension": ".py",
   "mimetype": "text/x-python",
   "name": "python",
   "nbconvert_exporter": "python",
   "pygments_lexer": "ipython3",
   "version": "3.10.8"
  },
  "orig_nbformat": 4,
  "vscode": {
   "interpreter": {
    "hash": "767d51c1340bd893661ea55ea3124f6de3c7a262a8b4abca0554b478b1e2ff90"
   }
  }
 },
 "nbformat": 4,
 "nbformat_minor": 2
}
