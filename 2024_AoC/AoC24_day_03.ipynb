{
 "cells": [
  {
   "cell_type": "code",
   "execution_count": 1,
   "metadata": {},
   "outputs": [],
   "source": [
    "#import numpy as np\n",
    "#from dataclasses import dataclass, field\n",
    "import re"
   ]
  },
  {
   "cell_type": "code",
   "execution_count": 148,
   "metadata": {},
   "outputs": [],
   "source": [
    "day = \"03\"\n",
    "file = f\"/home/curt/Documents/AoC/2024_AoC/input{day}_test.txt\"\n",
    "file = f\"/home/curt/Documents/AoC/2024_AoC/input{day}_test2.txt\"\n",
    "file = f\"/home/curt/Downloads/input{day}\"\n",
    "\n",
    "with open(file, 'r') as f:\n",
    "    data = f.read()[:-1]\n",
    "data    "
   ]
  },
  {
   "cell_type": "code",
   "execution_count": 112,
   "metadata": {},
   "outputs": [],
   "source": [
    "muls = list()\n",
    "for m in re.finditer(\"mul\\\\([0-9]{1,3},[0-9]{1,3}\\\\)\", data):\n",
    "    mul = [(a) for a in data[m.start()+4:m.end()-1].split(',')]\n",
    "    muls.append(int(mul[0])*int(mul[1]))\n",
    "\n",
    "sum(muls)"
   ]
  },
  {
   "cell_type": "markdown",
   "metadata": {},
   "source": [
    "# Part Two"
   ]
  },
  {
   "cell_type": "code",
   "execution_count": 149,
   "metadata": {},
   "outputs": [],
   "source": [
    "muls = 0\n",
    "do = True\n",
    "for m in re.findall(\"mul\\\\([0-9]{1,3},[0-9]{1,3}\\\\)|do\\\\(\\\\)|don't\\\\(\\\\)\", data,):\n",
    "    if m==\"do()\": do=True\n",
    "    elif m==\"don't()\": do=False\n",
    "    elif do:\n",
    "        ns = [a for a in m[4:-1].split(',')]\n",
    "        muls+=int(ns[0])*int(ns[1])\n",
    "\n",
    "muls"
   ]
  }
 ],
 "metadata": {
  "kernelspec": {
   "display_name": "Python 3 (ipykernel)",
   "language": "python",
   "name": "python3"
  },
  "language_info": {
   "codemirror_mode": {
    "name": "ipython",
    "version": 3
   },
   "file_extension": ".py",
   "mimetype": "text/x-python",
   "name": "python",
   "nbconvert_exporter": "python",
   "pygments_lexer": "ipython3",
   "version": "3.12.7"
  },
  "vscode": {
   "interpreter": {
    "hash": "767d51c1340bd893661ea55ea3124f6de3c7a262a8b4abca0554b478b1e2ff90"
   }
  }
 },
 "nbformat": 4,
 "nbformat_minor": 4
}
