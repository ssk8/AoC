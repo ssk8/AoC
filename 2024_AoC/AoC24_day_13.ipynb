{
 "cells": [
  {
   "cell_type": "code",
   "execution_count": 32,
   "metadata": {},
   "outputs": [],
   "source": [
    "import numpy as np\n",
    "#from dataclasses import dataclass, field"
   ]
  },
  {
   "cell_type": "code",
   "execution_count": 84,
   "metadata": {},
   "outputs": [
    {
     "name": "stdout",
     "output_type": "stream",
     "text": [
      "Button A: X+94, Y+34\n",
      "Button B: X+22, Y+67\n",
      "Prize: X=8400, Y=5400\n",
      "\n",
      "Button A: X+26, Y+66\n",
      "Button B: X+67, Y+21\n",
      "Prize: X=12748, Y=12176\n",
      "\n",
      "Button A: X+17, Y+86\n",
      "Button B: X+84, Y+37\n",
      "Prize: X=7870, Y=6450\n",
      "\n",
      "Button A: X+69, Y+23\n",
      "Button B: X+27, Y+71\n",
      "Prize: X=18641, Y=10279\n",
      "\n"
     ]
    }
   ],
   "source": [
    "day = \"13\"\n",
    "file = f\"/home/curt/Documents/AoC/2024_AoC/input{day}_test.txt\"\n",
    "file = f\"/home/curt/Documents/AoC/2024_AoC/input{day}_test.txt\"\n",
    "#file = f\"/home/curt/Downloads/input{day}\"\n",
    "\n",
    "with open(file, 'r') as f:\n",
    "    data = f.read().split(\"\\n\")[:-1]\n",
    "\n",
    "data_arrays=list()\n",
    "\n",
    "for i in range(0,len(data),4):\n",
    "    print(f\"{data[i]}\\n{data[i+1]}\\n{data[i+2]}\\n\")\n",
    "    xa = int(data[i][data[i].find(\"X+\")+2:data[i].find(\",\")])\n",
    "    xb = int(data[i+1][data[i+1].find(\"X+\")+2:data[i+1].find(\",\")])\n",
    "    ya = int(data[i][data[i].find(\"Y+\")+2:])\n",
    "    yb = int(data[i+1][data[i+1].find(\"Y+\")+2:])\n",
    "    x = int(data[i+2][data[i+2].find(\"X=\")+2: data[i+2].find(\",\")])\n",
    "    y = int(data[i+2][data[i+2].find(\"Y=\")+2:])\n",
    "    cm, o = np.array([[xa, xb], [ya, yb]]), np.array([x,y])\n",
    "    data_arrays.append((cm, o))"
   ]
  },
  {
   "cell_type": "code",
   "execution_count": 85,
   "metadata": {},
   "outputs": [
    {
     "name": "stdout",
     "output_type": "stream",
     "text": [
      "[80. 40.]\n",
      "\n",
      "\n",
      "[38. 86.]\n",
      "\n",
      "\n"
     ]
    },
    {
     "data": {
      "text/plain": [
       "np.float64(480.0)"
      ]
     },
     "execution_count": 85,
     "metadata": {},
     "output_type": "execute_result"
    }
   ],
   "source": [
    "total = 0\n",
    "for cm, o in data_arrays:\n",
    "    soln = np.linalg.solve(cm, o)\n",
    "    if all(np.isclose(s, round(s)) for s in soln):\n",
    "        print(soln)\n",
    "        total+=sum(soln*[3,1])\n",
    "    print()\n",
    "total"
   ]
  },
  {
   "cell_type": "markdown",
   "metadata": {},
   "source": [
    "# Part Two"
   ]
  },
  {
   "cell_type": "code",
   "execution_count": 88,
   "metadata": {},
   "outputs": [
    {
     "name": "stdout",
     "output_type": "stream",
     "text": [
      "o=[np.int64(10000000008400), np.int64(10000000005400)]\n",
      "[8.10810812e+10 1.08108108e+11]\n",
      "\n",
      "o=[np.int64(10000000012748), np.int64(10000000012176)]\n",
      "[1.18679051e+11 1.03199175e+11]\n",
      "\n",
      "o=[np.int64(10000000007870), np.int64(10000000006450)]\n",
      "[7.12661107e+10 1.04624716e+11]\n",
      "\n",
      "o=[np.int64(10000000018641), np.int64(10000000010279)]\n",
      "[1.02851800e+11 1.07526882e+11]\n",
      "\n"
     ]
    },
    {
     "data": {
      "text/plain": [
       "np.float64(1545093008502.8086)"
      ]
     },
     "execution_count": 88,
     "metadata": {},
     "output_type": "execute_result"
    }
   ],
   "source": [
    "total = 0\n",
    "for cm, o in data_arrays:\n",
    "    o=[n+10000000000000 for n in o]\n",
    "    print(f\"{o=}\")\n",
    "    soln = np.linalg.solve(cm, o)\n",
    "    if all(np.isclose(s, np.round(s)) for s in soln):\n",
    "        print(soln)\n",
    "        total+=sum(soln*[3,1])\n",
    "    print()\n",
    "total"
   ]
  }
 ],
 "metadata": {
  "kernelspec": {
   "display_name": "Python 3 (ipykernel)",
   "language": "python",
   "name": "python3"
  },
  "language_info": {
   "codemirror_mode": {
    "name": "ipython",
    "version": 3
   },
   "file_extension": ".py",
   "mimetype": "text/x-python",
   "name": "python",
   "nbconvert_exporter": "python",
   "pygments_lexer": "ipython3",
   "version": "3.12.7"
  },
  "vscode": {
   "interpreter": {
    "hash": "767d51c1340bd893661ea55ea3124f6de3c7a262a8b4abca0554b478b1e2ff90"
   }
  }
 },
 "nbformat": 4,
 "nbformat_minor": 4
}
