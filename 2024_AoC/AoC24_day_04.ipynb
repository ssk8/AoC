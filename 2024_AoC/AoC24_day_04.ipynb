{
 "cells": [
  {
   "cell_type": "code",
   "execution_count": 2,
   "metadata": {},
   "outputs": [],
   "source": [
    "import numpy as np\n",
    "#from dataclasses import dataclass, field"
   ]
  },
  {
   "cell_type": "code",
   "execution_count": null,
   "metadata": {},
   "outputs": [],
   "source": [
    "day = \"04\"\n",
    "file = f\"/home/curt/Documents/AoC/2024_AoC/input{day}_test.txt\"\n",
    "#file = f\"/home/curt/Documents/AoC/2024_AoC/input{day}_test2.txt\"\n",
    "file = f\"/home/curt/Downloads/input{day}\"\n",
    "\n",
    "with open(file, 'r') as f:\n",
    "    data = f.read().split(\"\\n\")[:-1]"
   ]
  },
  {
   "cell_type": "code",
   "execution_count": null,
   "metadata": {},
   "outputs": [],
   "source": [
    "def xmas_count(array)->int:\n",
    "    return sum((s:=\"\".join(l)).count(\"XMAS\")+s.count(\"SAMX\") for l in array)\n",
    "\n",
    "def rot_45(array: np.ndarray)->list[str]:\n",
    "    diagonal = list()\n",
    "    for n in range(-array.shape[0], array.shape[1]):\n",
    "        diagonal.append(''.join(array.diagonal(n)))\n",
    "    return diagonal\n",
    "\n",
    "data_a = np.array([[c for c in l] for l in data])\n",
    "\n",
    "total = 0\n",
    "total+=xmas_count(data_a)\n",
    "total+=xmas_count(np.rot90(data_a))\n",
    "total+=xmas_count(rot_45(data_a))\n",
    "total+=xmas_count(rot_45(np.rot90(data_a)))\n",
    "total"
   ]
  },
  {
   "cell_type": "markdown",
   "metadata": {},
   "source": [
    "# Part Two"
   ]
  },
  {
   "cell_type": "code",
   "execution_count": null,
   "metadata": {},
   "outputs": [],
   "source": [
    "def is_x(x,y, array: np.ndarray)->bool:\n",
    "    try:\n",
    "        if x==0 or y==0 or x==array.shape[0] or y==array.shape[1]: return False\n",
    "        if  (array[x-1, y-1]==\"M\" and array[x-1, y+1]==\"M\" and array[x+1, y-1]==\"S\" and array[x+1, y+1]==\"S\") or\\\n",
    "            (array[x-1, y-1]==\"S\" and array[x-1, y+1]==\"S\" and array[x+1, y-1]==\"M\" and array[x+1, y+1]==\"M\") or\\\n",
    "            (array[x-1, y-1]==\"S\" and array[x-1, y+1]==\"M\" and array[x+1, y-1]==\"S\" and array[x+1, y+1]==\"M\") or\\\n",
    "            (array[x-1, y-1]==\"M\" and array[x-1, y+1]==\"S\" and array[x+1, y-1]==\"M\" and array[x+1, y+1]==\"S\"):\n",
    "            return True\n",
    "    except IndexError:\n",
    "        return False\n",
    "    return False\n",
    "\n",
    "\n",
    "data_a = np.array([[c for c in l] for l in data])\n",
    "\n",
    "total=0\n",
    "for coor in zip(*np.where(data_a==\"A\")):\n",
    "    total += is_x(*coor, data_a)\n",
    "total"
   ]
  }
 ],
 "metadata": {
  "kernelspec": {
   "display_name": "Python 3 (ipykernel)",
   "language": "python",
   "name": "python3"
  },
  "vscode": {
   "interpreter": {
    "hash": "767d51c1340bd893661ea55ea3124f6de3c7a262a8b4abca0554b478b1e2ff90"
   }
  }
 },
 "nbformat": 4,
 "nbformat_minor": 4
}
