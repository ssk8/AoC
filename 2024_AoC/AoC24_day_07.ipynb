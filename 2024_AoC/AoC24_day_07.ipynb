{
 "cells": [
  {
   "cell_type": "code",
   "execution_count": null,
   "metadata": {},
   "outputs": [],
   "source": [
    "#import numpy as np\n",
    "#from dataclasses import dataclass, field\n",
    "from sympy import variations\n",
    "import functools"
   ]
  },
  {
   "cell_type": "code",
   "execution_count": null,
   "metadata": {},
   "outputs": [],
   "source": [
    "day = \"07\"\n",
    "file = f\"/home/curt/Documents/AoC/2024_AoC/input{day}_test.txt\"\n",
    "file = f\"/home/curt/Downloads/input{day}\"\n",
    "\n",
    "with open(file, 'r') as f:\n",
    "    data = f.read().split(\"\\n\")[:-1]\n",
    "\n",
    "m_data = []\n",
    "for l in data:\n",
    "    tv, tl = l.split(': ')\n",
    "    m_data.append((int(tv), tuple([int(n) for n in tl.split(' ')])))\n",
    "\n",
    "m_data"
   ]
  },
  {
   "cell_type": "code",
   "execution_count": null,
   "metadata": {},
   "outputs": [],
   "source": [
    "trues = []\n",
    "tots = 0\n",
    "for vals in m_data:\n",
    "    for op_set in variations((0,1), len(vals[1])+1, repetition=True):\n",
    "        total = vals[1][0]\n",
    "        for o, n in zip(op_set, vals[1][1:]):\n",
    "            if o: total*=n\n",
    "            else: total+=n\n",
    "        if total==vals[0]:\n",
    "            trues.append(vals[0])\n",
    "            tots+=vals[0]\n",
    "            print(f'{vals} {op_set}')\n",
    "            break\n",
    "sum(trues)\n",
    "tots"
   ]
  },
  {
   "cell_type": "markdown",
   "metadata": {},
   "source": [
    "# Part Two"
   ]
  },
  {
   "cell_type": "code",
   "execution_count": null,
   "metadata": {},
   "outputs": [],
   "source": [
    "@functools.cache\n",
    "def find_trues():\n",
    "    tots = 0\n",
    "    for vals in m_data:\n",
    "        for op_set in variations((0,1,2), len(vals[1])+1, repetition=True):\n",
    "            total = vals[1][0]\n",
    "            for o, n in zip(op_set, vals[1][1:]):\n",
    "                if not o: total*=n\n",
    "                elif o==1:  total+=n\n",
    "                else: total = int(str(total)+str(n))\n",
    "            if total==vals[0]:\n",
    "                trues.append(vals[0])\n",
    "                tots+=vals[0]\n",
    "                break\n",
    "    return tots\n",
    "find_trues()"
   ]
  }
 ],
 "metadata": {
  "kernelspec": {
   "display_name": "Python 3 (ipykernel)",
   "language": "python",
   "name": "python3"
  },
  "language_info": {
   "codemirror_mode": {
    "name": "ipython",
    "version": 3
   },
   "file_extension": ".py",
   "mimetype": "text/x-python",
   "name": "python",
   "nbconvert_exporter": "python",
   "pygments_lexer": "ipython3",
   "version": "3.12.7"
  },
  "vscode": {
   "interpreter": {
    "hash": "767d51c1340bd893661ea55ea3124f6de3c7a262a8b4abca0554b478b1e2ff90"
   }
  }
 },
 "nbformat": 4,
 "nbformat_minor": 4
}
