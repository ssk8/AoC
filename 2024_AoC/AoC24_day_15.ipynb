{
 "cells": [
  {
   "cell_type": "code",
   "execution_count": 18,
   "metadata": {},
   "outputs": [],
   "source": [
    "import numpy as np\n",
    "#from dataclasses import dataclass, field"
   ]
  },
  {
   "cell_type": "code",
   "execution_count": 133,
   "metadata": {},
   "outputs": [
    {
     "name": "stdout",
     "output_type": "stream",
     "text": [
      "<vv<<^^<<^^\n"
     ]
    },
    {
     "data": {
      "text/plain": [
       "['#######', '#...#.#', '#.....#', '#..OO@#', '#..O..#', '#.....#', '#######']"
      ]
     },
     "execution_count": 133,
     "metadata": {},
     "output_type": "execute_result"
    }
   ],
   "source": [
    "day = \"15\"\n",
    "file = f\"/home/curt/Documents/AoC/2024_AoC/input{day}_test_part2.txt\"\n",
    "#file = f\"/home/curt/Documents/AoC/2024_AoC/input{day}_test_full.txt\"\n",
    "#file = f\"/home/curt/Downloads/input{day}\"\n",
    "\n",
    "with open(file, 'r') as f:\n",
    "    data = f.read().split(\"\\n\")[:-1]\n",
    "\n",
    "wh=data[:data.index(\"\")]\n",
    "moves = ''.join(data[data.index(\"\")+1:])\n",
    "rules = {k:v for k, v in zip('<v>^', (([0],[-1]),([1],[0]),([0],[1]),([-1],[0])))}\n",
    "print(moves)\n",
    "wh"
   ]
  },
  {
   "cell_type": "code",
   "execution_count": 134,
   "metadata": {},
   "outputs": [
    {
     "data": {
      "text/plain": [
       "908"
      ]
     },
     "execution_count": 134,
     "metadata": {},
     "output_type": "execute_result"
    }
   ],
   "source": [
    "def move_block(start: tuple[int, int], direction: tuple[list[int], list[int]]):\n",
    "    next_pos = tuple([*np.add(start, direction)])\n",
    "    there = wha[next_pos]\n",
    "    if (there == \".\") or (there == \"O\" and move_block(next_pos, direction)):\n",
    "        wha[next_pos], wha[start] = wha[start], wha[next_pos]\n",
    "        return True\n",
    "    return False\n",
    "\n",
    "\n",
    "wha = np.array([[*l] for l in wh])\n",
    "\n",
    "for move in moves:\n",
    "    move_block(np.where(wha==\"@\"), rules[move])\n",
    "\n",
    "gpsa = np.where(wha==\"O\")\n",
    "int(100*sum(gpsa[0])+sum(gpsa[1]))"
   ]
  },
  {
   "cell_type": "markdown",
   "metadata": {},
   "source": [
    "# Part Two"
   ]
  },
  {
   "cell_type": "code",
   "execution_count": 135,
   "metadata": {},
   "outputs": [
    {
     "data": {
      "text/plain": [
       "array([['##############'],\n",
       "       ['##......##..##'],\n",
       "       ['##..........##'],\n",
       "       ['##....[][]@.##'],\n",
       "       ['##....[]....##'],\n",
       "       ['##..........##'],\n",
       "       ['##############']], dtype='<U14')"
      ]
     },
     "execution_count": 135,
     "metadata": {},
     "output_type": "execute_result"
    }
   ],
   "source": [
    "\n",
    "\n",
    "\n",
    "# def move_block(start: tuple[int, int], direction: tuple[list[int], list[int]]):\n",
    "#     next_pos = tuple([*np.add(start, direction)])\n",
    "#     there = wha[next_pos]\n",
    "#     if there == \"#\": return False\n",
    "#     if there == \".\":\n",
    "#         wha[next_pos], wha[start] = wha[start], wha[next_pos]\n",
    "#         return True\n",
    "#     if there == \"O\":\n",
    "#         if move_block(next_pos, direction):\n",
    "#             wha[next_pos], wha[start] = wha[start], wha[next_pos]\n",
    "#             return True\n",
    "\n",
    "double = {\"#\":\"##\", \"O\":\"[]\",\".\":\"..\",\"@\":\"@.\"}\n",
    "wha = np.array([[\"\".join(double[b] for b in l)] for l in wh])\n",
    "\n",
    "# for move in moves:\n",
    "#     move_block(np.where(wha==\"@\"), rules[move])\n",
    "\n",
    "# gpsa = np.where(wha==\"O\")\n",
    "# int(100*sum(gpsa[0])+sum(gpsa[1]))\n",
    "wha"
   ]
  }
 ],
 "metadata": {
  "kernelspec": {
   "display_name": "Python 3 (ipykernel)",
   "language": "python",
   "name": "python3"
  },
  "language_info": {
   "codemirror_mode": {
    "name": "ipython",
    "version": 3
   },
   "file_extension": ".py",
   "mimetype": "text/x-python",
   "name": "python",
   "nbconvert_exporter": "python",
   "pygments_lexer": "ipython3",
   "version": "3.12.7"
  },
  "vscode": {
   "interpreter": {
    "hash": "767d51c1340bd893661ea55ea3124f6de3c7a262a8b4abca0554b478b1e2ff90"
   }
  }
 },
 "nbformat": 4,
 "nbformat_minor": 4
}
