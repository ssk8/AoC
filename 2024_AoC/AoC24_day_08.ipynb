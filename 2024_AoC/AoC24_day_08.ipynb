{
 "cells": [
  {
   "cell_type": "code",
   "execution_count": null,
   "metadata": {},
   "outputs": [],
   "source": [
    "import numpy as np\n",
    "#from dataclasses import dataclass, field\n",
    "from itertools import combinations"
   ]
  },
  {
   "cell_type": "code",
   "execution_count": null,
   "metadata": {},
   "outputs": [],
   "source": [
    "day = \"08\"\n",
    "file = f\"/home/curt/Documents/AoC/2024_AoC/input{day}_test.txt\"\n",
    "#file = f\"/home/curt/Documents/AoC/2024_AoC/input{day}_testd.txt\"\n",
    "file = f\"/home/curt/Downloads/input{day}\"\n",
    "\n",
    "with open(file, 'r') as f:\n",
    "    data = f.read().split(\"\\n\")[:-1]\n",
    "\n",
    "data_a = np.array([[e for e in l] for l in data])\n",
    "antennas = [a for a in np.unique(data_a) if a !=\".\"]\n",
    "shapey, shapex = data_a.shape\n",
    "print(shapey, shapex)\n",
    "print(\"\",str(data_a).replace('\\'','').replace('[','').replace(']',''))"
   ]
  },
  {
   "cell_type": "code",
   "execution_count": null,
   "metadata": {},
   "outputs": [],
   "source": [
    "def find_antinodes(antenna):\n",
    "    antinodes = []\n",
    "    for (ay, ax), (by, bx) in combinations([p for p in zip(*np.where(data_a==antenna))], 2):\n",
    "        if ay>by:\n",
    "            ay, ax, by, bx = by, bx, ay, ax\n",
    "        nodes, dy = [], by-ay\n",
    "        if ax<bx:\n",
    "            dx = bx-ax\n",
    "            nodes+=[(ay-dy,ax-dx), (by+dy, bx+dx)]\n",
    "        else:\n",
    "            dx = ax-bx\n",
    "            nodes+=[(ay-dy,ax+dx), (by+dy, bx-dx)]\n",
    "        antinodes+=[node for node in nodes if all(0<=n<shapey for n in node)]\n",
    "    return antinodes\n",
    "all_antis = []\n",
    "for antenna in antennas:\n",
    "    all_antis+=find_antinodes(antenna)\n",
    "len(set(all_antis))"
   ]
  },
  {
   "cell_type": "markdown",
   "metadata": {},
   "source": [
    "# Part Two"
   ]
  },
  {
   "cell_type": "code",
   "execution_count": null,
   "metadata": {},
   "outputs": [],
   "source": [
    "def find_antinodes(antenna):\n",
    "    antinodes = []\n",
    "    for (ay, ax), (by, bx) in combinations([p for p in zip(*np.where(data_a==antenna))], 2):\n",
    "        if ay>by:\n",
    "            ay, ax, by, bx = by, bx, ay, ax\n",
    "        dees_nodes = [(ay, ax), (by, bx)]\n",
    "        dy, dx = by-ay, 0\n",
    "        while any((-1<ay<shapey, -1<by<shapey, -1<ax<shapex, -1<bx<shapex)):\n",
    "            if ax<bx:\n",
    "                if not dx:\n",
    "                    dx = bx-ax\n",
    "                dees_nodes+=[(ay-dy,ax-dx), (by+dy, bx+dx)]\n",
    "            else:\n",
    "                if not dx:\n",
    "                    dx = ax-bx\n",
    "                dees_nodes+=[(ay-dy,ax+dx), (by+dy, bx-dx)]\n",
    "            (ay, ax), (by, bx) = dees_nodes[-2:]\n",
    "        antinodes+=[node for node in dees_nodes if all(0<=n<shapey for n in node)]\n",
    "    return antinodes\n",
    "\n",
    "all_antis = []\n",
    "for antenna in antennas:\n",
    "    all_antis+=find_antinodes(antenna)\n",
    "len(set(all_antis))"
   ]
  }
 ],
 "metadata": {
  "kernelspec": {
   "display_name": "Python 3 (ipykernel)",
   "language": "python",
   "name": "python3"
  },
  "language_info": {
   "codemirror_mode": {
    "name": "ipython",
    "version": 3
   },
   "file_extension": ".py",
   "mimetype": "text/x-python",
   "name": "python",
   "nbconvert_exporter": "python",
   "pygments_lexer": "ipython3",
   "version": "3.12.7"
  },
  "vscode": {
   "interpreter": {
    "hash": "767d51c1340bd893661ea55ea3124f6de3c7a262a8b4abca0554b478b1e2ff90"
   }
  }
 },
 "nbformat": 4,
 "nbformat_minor": 4
}
