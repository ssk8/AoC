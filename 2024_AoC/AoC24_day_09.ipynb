{
 "cells": [
  {
   "cell_type": "code",
   "execution_count": null,
   "metadata": {},
   "outputs": [],
   "source": [
    "day = \"09\"\n",
    "file = f\"/home/curt/Documents/AoC/2024_AoC/input{day}_test.txt\"\n",
    "file = f\"/home/curt/Downloads/input{day}\"\n",
    "\n",
    "with open(file, 'r') as f:\n",
    "    data = f.read()[:-1]\n",
    "\n",
    "data"
   ]
  },
  {
   "cell_type": "code",
   "execution_count": null,
   "metadata": {},
   "outputs": [],
   "source": [
    "disk_map = []\n",
    "id = 0\n",
    "for i, n in enumerate(data):\n",
    "    if not i%2:\n",
    "        disk_map+=[str(i//2) for _ in range(int(n))]\n",
    "        id+=1\n",
    "    else:\n",
    "        disk_map+=[\".\" for _ in range(int(n))]\n",
    "print(''.join(disk_map))\n",
    "final_len = len(disk_map)-disk_map.count(\".\")\n",
    "final, stay, rest = [], disk_map[:final_len], [b for b in disk_map[final_len:] if b.isnumeric()]\n",
    "for block in stay:\n",
    "    if block==\".\":\n",
    "        final.append(rest.pop())\n",
    "    else:\n",
    "        final.append(block)\n",
    "\n",
    "print(f\"{len(final)=}  {final_len=}\")\n",
    "\n",
    "#final = \"0099811188827773336446555566\"\n",
    "sum(i*int(n) for i, n in enumerate(final))"
   ]
  },
  {
   "cell_type": "markdown",
   "metadata": {},
   "source": [
    "# Part Two"
   ]
  },
  {
   "cell_type": "code",
   "execution_count": null,
   "metadata": {},
   "outputs": [],
   "source": [
    "disk = []\n",
    "id = 0\n",
    "for i, n in enumerate(data):\n",
    "    if not i%2:\n",
    "        disk.append((int(n), str(i//2)))\n",
    "        id+=1\n",
    "    else:\n",
    "        disk.append(int(n))\n",
    "\n",
    "\n",
    "def get_map(disk)->list:\n",
    "    disk_map = []\n",
    "    id=0\n",
    "    for b in disk:\n",
    "        if type(b)==tuple:\n",
    "            disk_map+=[b[1] for _ in range(b[0])]\n",
    "            id+=1\n",
    "        else:\n",
    "            disk_map+=[\".\" for _ in range(b)]\n",
    "    return disk_map\n",
    "\n",
    "\n",
    "remainder = []\n",
    "while disk:\n",
    "    cur_block = disk.pop()\n",
    "    if type(cur_block)==int:remainder.append(cur_block)\n",
    "    else:\n",
    "        for i in range(len(disk)):\n",
    "            if type(disk[i])==int and disk[i]>=cur_block[0]:\n",
    "                rem = disk[i]-cur_block[0]\n",
    "                disk[i]=cur_block\n",
    "                remainder.append(cur_block[0])\n",
    "                if rem: disk.insert(i+1, rem)\n",
    "                break\n",
    "        else:\n",
    "            remainder.append(cur_block)\n",
    "disk=remainder[::-1]\n",
    "\n",
    "\n",
    "sum(i*int(n) for i, n in enumerate(get_map(disk)) if n.isnumeric())"
   ]
  }
 ],
 "metadata": {
  "kernelspec": {
   "display_name": "Python 3 (ipykernel)",
   "language": "python",
   "name": "python3"
  },
  "language_info": {
   "codemirror_mode": {
    "name": "ipython",
    "version": 3
   },
   "file_extension": ".py",
   "mimetype": "text/x-python",
   "name": "python",
   "nbconvert_exporter": "python",
   "pygments_lexer": "ipython3",
   "version": "3.12.7"
  },
  "vscode": {
   "interpreter": {
    "hash": "767d51c1340bd893661ea55ea3124f6de3c7a262a8b4abca0554b478b1e2ff90"
   }
  }
 },
 "nbformat": 4,
 "nbformat_minor": 4
}
