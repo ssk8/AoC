{
 "cells": [
  {
   "cell_type": "code",
   "execution_count": null,
   "metadata": {},
   "outputs": [],
   "source": [
    "from collections import defaultdict"
   ]
  },
  {
   "cell_type": "code",
   "execution_count": null,
   "metadata": {},
   "outputs": [],
   "source": [
    "day = \"11\"\n",
    "file = f\"/home/curt/Documents/AoC/2024_AoC/input{day}_test.txt\"\n",
    "file = f\"/home/curt/Downloads/input{day}\"\n",
    "\n",
    "with open(file, 'r') as f:\n",
    "    data = f.read().split(\"\\n\")[:-1]\n",
    "\n",
    "data = data[0].split(\" \")\n"
   ]
  },
  {
   "cell_type": "code",
   "execution_count": null,
   "metadata": {},
   "outputs": [],
   "source": [
    "def blink(stones):\n",
    "    changed = []\n",
    "    for stone in stones:\n",
    "        if stone==\"0\":\n",
    "            changed.append(\"1\")\n",
    "        elif not len(stone)%2:\n",
    "            changed+=[stone[:len(stone)//2], str(int(stone[len(stone)//2:]))]\n",
    "        else:\n",
    "            changed.append(str(int(stone)*2024))\n",
    "    return changed\n",
    "        \n",
    "dees_nuts=data\n",
    "last_len=len(dees_nuts)\n",
    "for _ in range(25):   \n",
    "    dees_nuts = blink(dees_nuts)\n",
    "    last_len=len(dees_nuts)\n",
    "print(len(dees_nuts))"
   ]
  },
  {
   "cell_type": "markdown",
   "metadata": {},
   "source": [
    "# Part Two"
   ]
  },
  {
   "cell_type": "code",
   "execution_count": null,
   "metadata": {},
   "outputs": [],
   "source": [
    "def blink(stone):\n",
    "    if stone==\"0\":\n",
    "        return [\"1\"]\n",
    "    elif not len(stone)%2:\n",
    "        return [stone[:len(stone)//2], str(int(stone[len(stone)//2:]))]\n",
    "    else:\n",
    "        return [str(int(stone)*2024)]\n",
    "\n",
    "\n",
    "stones = dict()\n",
    "for s in data:\n",
    "    stones[s]=1\n",
    "\n",
    "for _ in range(75):\n",
    "    new=defaultdict(int)\n",
    "    for stone in stones:\n",
    "        for ns in blink(stone):\n",
    "            new[ns]+=stones[stone]\n",
    "    stones=new\n",
    "\n",
    "sum(stones.values())"
   ]
  }
 ],
 "metadata": {
  "kernelspec": {
   "display_name": "Python 3 (ipykernel)",
   "language": "python",
   "name": "python3"
  },
  "vscode": {
   "interpreter": {
    "hash": "767d51c1340bd893661ea55ea3124f6de3c7a262a8b4abca0554b478b1e2ff90"
   }
  }
 },
 "nbformat": 4,
 "nbformat_minor": 4
}
