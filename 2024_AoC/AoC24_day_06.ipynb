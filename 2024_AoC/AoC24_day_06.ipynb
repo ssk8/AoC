{
 "cells": [
  {
   "cell_type": "code",
   "execution_count": null,
   "metadata": {},
   "outputs": [],
   "source": [
    "import numpy as np\n",
    "#from dataclasses import dataclass, field\n",
    "from itertools import cycle"
   ]
  },
  {
   "cell_type": "code",
   "execution_count": null,
   "metadata": {},
   "outputs": [],
   "source": [
    "day = \"06\"\n",
    "file = f\"/home/curt/Documents/AoC/2024_AoC/input{day}_test.txt\"\n",
    "file = f\"/home/curt/Downloads/input{day}\"\n",
    "\n",
    "with open(file, 'r') as f:\n",
    "    data = f.read().split(\"\\n\")[:-1]\n",
    "\n",
    "#s_map = np.zeros(shape=(len(data), len(data[0])))    \n",
    "s_map = np.array([[s for s in l] for l in data])"
   ]
  },
  {
   "cell_type": "code",
   "execution_count": null,
   "metadata": {},
   "outputs": [],
   "source": [
    "directions = [(-1, 0), (0, 1), (1, 0), (0, -1)]\n",
    "direction = cycle(directions)\n",
    "cur_dir = next(direction)\n",
    "pos = np.where(s_map==\"^\")\n",
    "visited = set()\n",
    "\n",
    "for _ in range(10000):\n",
    "    visited.add((int(pos[0][0]), int(pos[1][0])))    \n",
    "    next_pos = pos[0]+cur_dir[0], pos[1]+cur_dir[1]\n",
    "\n",
    "    if -1<next_pos[0][0]<len(s_map) and -1<next_pos[1][0]<len(s_map[0]):\n",
    "        if s_map[next_pos]==\"#\":\n",
    "            cur_dir=next(direction)\n",
    "        else:    \n",
    "            pos = next_pos\n",
    "    else:\n",
    "        print(\"out\")\n",
    "        break\n",
    "len(visited)"
   ]
  },
  {
   "cell_type": "markdown",
   "metadata": {},
   "source": [
    "# Part Two"
   ]
  },
  {
   "cell_type": "code",
   "execution_count": null,
   "metadata": {},
   "outputs": [],
   "source": [
    "def is_loop(c_map):\n",
    "    directions = [(-1, 0), (0, 1), (1, 0), (0, -1)]\n",
    "    direction = cycle(directions)\n",
    "    cur_dir = next(direction)\n",
    "    pos = np.where(s_map==\"^\")\n",
    "\n",
    "    for _ in range(10000):\n",
    "        next_pos = pos[0]+cur_dir[0], pos[1]+cur_dir[1]\n",
    "\n",
    "        if -1<next_pos[0][0]<len(c_map) and -1<next_pos[1][0]<len(c_map[0]):\n",
    "            if c_map[next_pos]==\"#\":\n",
    "                cur_dir=next(direction)\n",
    "            else:    \n",
    "                pos = next_pos\n",
    "        else:\n",
    "            return False\n",
    "    return True\n",
    "\n",
    "directions = [(-1, 0), (0, 1), (1, 0), (0, -1)]\n",
    "direction = cycle(directions)\n",
    "cur_dir = next(direction)\n",
    "pos = np.where(s_map==\"^\")\n",
    "loop_spot = set()\n",
    "\n",
    "for _ in range(10000):\n",
    "    next_pos = pos[0]+cur_dir[0], pos[1]+cur_dir[1]\n",
    "    if -1<next_pos[0][0]<len(s_map) and -1<next_pos[1][0]<len(s_map[0]):\n",
    "        if s_map[next_pos]==\"#\":\n",
    "            cur_dir=next(direction)\n",
    "        else:    \n",
    "            pos = next_pos\n",
    "            if pos!=np.where(s_map==\"^\"):\n",
    "                new_map = np.copy(s_map)\n",
    "                new_map[pos]=\"#\"\n",
    "                if is_loop(new_map):\n",
    "                    loop_spot.add((int(pos[0][0]), int(pos[1][0])))   \n",
    "  \n",
    "    else:\n",
    "        print(\"out\")\n",
    "        break\n",
    "len(loop_spot)"
   ]
  }
 ],
 "metadata": {
  "kernelspec": {
   "display_name": "Python 3 (ipykernel)",
   "language": "python",
   "name": "python3"
  },
  "vscode": {
   "interpreter": {
    "hash": "767d51c1340bd893661ea55ea3124f6de3c7a262a8b4abca0554b478b1e2ff90"
   }
  }
 },
 "nbformat": 4,
 "nbformat_minor": 4
}
