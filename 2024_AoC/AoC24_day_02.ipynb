{
 "cells": [
  {
   "cell_type": "code",
   "execution_count": 2,
   "metadata": {},
   "outputs": [],
   "source": [
    "#import numpy as np\n",
    "#from dataclasses import dataclass, field\n",
    "from collections import Counter"
   ]
  },
  {
   "cell_type": "code",
   "execution_count": 49,
   "metadata": {},
   "outputs": [],
   "source": [
    "day = \"02\"\n",
    "file = f\"/home/curt/Documents/AoC/2024_AoC/input{day}_test.txt\"\n",
    "file = f\"/home/curt/Downloads/input{day}\"\n",
    "\n",
    "with open(file, 'r') as f:\n",
    "    data = f.read().split(\"\\n\")[:-1]\n",
    "\n",
    "mdata = [[int(n) for n in l.split(' ')] for l in data]"
   ]
  },
  {
   "cell_type": "code",
   "execution_count": 43,
   "metadata": {},
   "outputs": [],
   "source": [
    "safe = 0\n",
    "for l in mdata:\n",
    "    if l == sorted(l) or l == sorted(l, reverse=True):\n",
    "        step = [abs(a-b) for a, b in zip(l[::], l[1::])]\n",
    "        if min(step) > 0 and max(step) < 4:\n",
    "            safe+=1\n",
    "safe"
   ]
  },
  {
   "cell_type": "markdown",
   "metadata": {},
   "source": [
    "# Part Two"
   ]
  },
  {
   "cell_type": "code",
   "execution_count": 50,
   "metadata": {},
   "outputs": [],
   "source": [
    "def is_safe(l)->bool:\n",
    "    if l == sorted(l) or l == sorted(l, reverse=True):\n",
    "        step = [abs(a-b) for a, b in zip(l[::], l[1::])]\n",
    "        if min(step) > 0 and max(step) < 4:\n",
    "               return True\n",
    "    return False\n",
    "\n",
    "\n",
    "safe = 0\n",
    "for l in mdata:\n",
    "    if is_safe(l):\n",
    "        safe+=1\n",
    "    else:\n",
    "         for e in range(len(l)):\n",
    "            if is_safe(l[0:e]+l[e+1:]):\n",
    "                safe+=1\n",
    "                break\n",
    "safe"
   ]
  }
 ],
 "metadata": {
  "kernelspec": {
   "display_name": "Python 3 (ipykernel)",
   "language": "python",
   "name": "python3"
  },
  "language_info": {
   "codemirror_mode": {
    "name": "ipython",
    "version": 3
   },
   "file_extension": ".py",
   "mimetype": "text/x-python",
   "name": "python",
   "nbconvert_exporter": "python",
   "pygments_lexer": "ipython3",
   "version": "3.12.7"
  },
  "vscode": {
   "interpreter": {
    "hash": "767d51c1340bd893661ea55ea3124f6de3c7a262a8b4abca0554b478b1e2ff90"
   }
  }
 },
 "nbformat": 4,
 "nbformat_minor": 4
}
