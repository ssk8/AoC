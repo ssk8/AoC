{
 "cells": [
  {
   "cell_type": "code",
   "execution_count": 2,
   "metadata": {},
   "outputs": [],
   "source": [
    "import numpy as np\n",
    "from dataclasses import dataclass\n",
    "from matplotlib import pyplot as plt\n",
    "import PIL"
   ]
  },
  {
   "cell_type": "code",
   "execution_count": null,
   "metadata": {},
   "outputs": [],
   "source": [
    "day = \"14\"\n",
    "file = f\"/home/curt/Documents/AoC/2024_AoC/input{day}_test.txt\"\n",
    "file = f\"/home/curt/Downloads/input{day}\"\n",
    "\n",
    "with open(file, 'r') as f:\n",
    "    data = f.read().split(\"\\n\")[:-1]\n",
    "\n",
    "space = [int(n) for n in data.pop().split()]\n",
    "print(f\"{space=}\")\n",
    "@dataclass\n",
    "class Robot:\n",
    "    xi: int\n",
    "    yi: int\n",
    "    vx: int\n",
    "    vy: int\n",
    "\n",
    "robots = list()\n",
    "for line in data:\n",
    "    p, v = line.split()\n",
    "    xi, yi = p[2:].split(\",\")\n",
    "    vx, vy = v[2:].split(\",\")\n",
    "    robots.append(Robot(*[int(n) for n in (xi, yi, vx, vy)]))\n",
    "space"
   ]
  },
  {
   "cell_type": "code",
   "execution_count": null,
   "metadata": {},
   "outputs": [],
   "source": [
    "print(f'{space=}')\n",
    "def position(robot: Robot, t: int)->tuple[int, int]:\n",
    "    x = (robot.xi+robot.vx*t)%space[1]\n",
    "    y = (robot.yi+robot.vy*t)%space[0]\n",
    "    return x, y\n",
    "\n",
    "bathroom = np.zeros(shape=space)\n",
    "\n",
    "for robot in robots:\n",
    "    x, y = position(robot, 100)\n",
    "    bathroom[y, x]+=1\n",
    "\n",
    "quads = (bathroom[:space[0]//2,:space[1]//2], bathroom[space[0]//2+1:, space[1]//2+1:], bathroom[:space[0]//2, space[1]//2+1:], bathroom[space[0]//2+1:, :space[1]//2])\n",
    "\n",
    "safety_factor = 1\n",
    "for quad in quads:\n",
    "    safety_factor*=quad.sum()\n",
    "\n",
    "int(safety_factor)"
   ]
  },
  {
   "cell_type": "markdown",
   "metadata": {},
   "source": [
    "# Part Two"
   ]
  },
  {
   "cell_type": "code",
   "execution_count": null,
   "metadata": {},
   "outputs": [],
   "source": [
    "\n",
    "def position(robot: Robot, t: int)->tuple[int, int]:\n",
    "    x = (robot.xi+robot.vx*t)%space[1]\n",
    "    y = (robot.yi+robot.vy*t)%space[0]\n",
    "    return x, y\n",
    "\n",
    "\n",
    "\n",
    "for n in range(38, 9999, 101):\n",
    "    bathroom = np.zeros(shape=space)\n",
    "    for robot in robots:\n",
    "        x, y = position(robot, n)\n",
    "        bathroom[y, x]=1\n",
    "\n",
    "    plt.imshow(bathroom)\n",
    "    plt.xlabel(n)\n",
    "    plt.savefig(f\"fig/fig/test{n:06}.png\")\n",
    "    PIL.Image.open(f\"fig/fig/test{n:06}.png\").save(f\"fig/fig/test{n:06}.png\", \"PNG\")"
   ]
  },
  {
   "cell_type": "markdown",
   "metadata": {},
   "source": [
    "![](output14.png)"
   ]
  }
 ],
 "metadata": {
  "kernelspec": {
   "display_name": "Python 3 (ipykernel)",
   "language": "python",
   "name": "python3"
  },
  "language_info": {
   "codemirror_mode": {
    "name": "ipython",
    "version": 3
   },
   "file_extension": ".py",
   "mimetype": "text/x-python",
   "name": "python",
   "nbconvert_exporter": "python",
   "pygments_lexer": "ipython3",
   "version": "3.12.7"
  },
  "vscode": {
   "interpreter": {
    "hash": "767d51c1340bd893661ea55ea3124f6de3c7a262a8b4abca0554b478b1e2ff90"
   }
  }
 },
 "nbformat": 4,
 "nbformat_minor": 4
}
