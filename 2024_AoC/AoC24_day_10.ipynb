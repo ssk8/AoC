{
 "cells": [
  {
   "cell_type": "code",
   "execution_count": null,
   "metadata": {},
   "outputs": [],
   "source": [
    "import numpy as np\n",
    "#from dataclasses import dataclass, field"
   ]
  },
  {
   "cell_type": "code",
   "execution_count": null,
   "metadata": {},
   "outputs": [],
   "source": [
    "day = \"10\"\n",
    "file = f\"/home/curt/Documents/AoC/2024_AoC/input{day}_test_part2.txt\"\n",
    "file = f\"/home/curt/Documents/AoC/2024_AoC/input{day}_test_d.txt\"\n",
    "file = f\"/home/curt/Downloads/input{day}\"\n",
    "\n",
    "with open(file, 'r') as f:\n",
    "    data = f.read().split(\"\\n\")[:-1]\n",
    "\n",
    "t_map = np.array([[10 if not n.isnumeric() else int(n) for n in l] for l in data])\n",
    "t_map"
   ]
  },
  {
   "cell_type": "code",
   "execution_count": null,
   "metadata": {},
   "outputs": [],
   "source": [
    "def find_neighbors(pos: tuple)->list[tuple,]:\n",
    "    neighbors, dirs = list(), ((1,0), (0,1), (-1, 0), (0, -1))\n",
    "    for dir in dirs:\n",
    "        new_dir = (pos[0]+dir[0], pos[1]+dir[1])\n",
    "        if all(0<=n<t_map.shape[0] for n in new_dir):\n",
    "            neighbors.append(new_dir)\n",
    "    return neighbors\n",
    "\n",
    "scores=[]\n",
    "for trail_head in [c for c in zip(*np.where(t_map==0))]:\n",
    "    visited, current, next = set(), [trail_head], []\n",
    "    for n in range(1, 10):\n",
    "        for pos in current:\n",
    "            for neighbor in find_neighbors(pos):\n",
    "                if neighbor not in visited and t_map[neighbor]==n:\n",
    "                    visited.add(neighbor)                    \n",
    "                    next.append(neighbor)\n",
    "        current, next =  next, []\n",
    "    scores.append(sum(t_map[p]==9 for p in visited))\n",
    "sum(scores)"
   ]
  },
  {
   "cell_type": "markdown",
   "metadata": {},
   "source": [
    "# Part Two"
   ]
  },
  {
   "cell_type": "code",
   "execution_count": null,
   "metadata": {},
   "outputs": [],
   "source": [
    "def find_neighbors(pos: bool)->list[bool,]:\n",
    "    neighbors, dirs = list(), ((1,0), (0,1), (-1, 0), (0, -1))\n",
    "    for dir in dirs:\n",
    "        new_dir = (pos[0]+dir[0], pos[1]+dir[1])\n",
    "        if all(0<=n<t_map.shape[0] for n in new_dir):\n",
    "            neighbors.append(new_dir)\n",
    "    return neighbors\n",
    "\n",
    "scores=[]\n",
    "for trail_head in [c for c in zip(*np.where(t_map==0))]:\n",
    "    trails, next = [[trail_head]], []\n",
    "    for n in range(1, 10):\n",
    "        for current_trail in trails:\n",
    "            for neighbor in find_neighbors(current_trail[-1]):\n",
    "                if neighbor not in current_trail and t_map[neighbor]==n:\n",
    "                    next.append(current_trail+[neighbor])                    \n",
    "        trails, next =  next, []\n",
    "    scores.append(len(trails))\n",
    "sum(scores)"
   ]
  }
 ],
 "metadata": {
  "kernelspec": {
   "display_name": "Python 3 (ipykernel)",
   "language": "python",
   "name": "python3"
  },
  "vscode": {
   "interpreter": {
    "hash": "767d51c1340bd893661ea55ea3124f6de3c7a262a8b4abca0554b478b1e2ff90"
   }
  }
 },
 "nbformat": 4,
 "nbformat_minor": 4
}
