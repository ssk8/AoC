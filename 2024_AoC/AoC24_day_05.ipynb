{
 "cells": [
  {
   "cell_type": "code",
   "execution_count": null,
   "metadata": {},
   "outputs": [],
   "source": [
    "#import numpy as np\n",
    "#from dataclasses import dataclass, field\n",
    "from copy import copy"
   ]
  },
  {
   "cell_type": "code",
   "execution_count": null,
   "metadata": {},
   "outputs": [],
   "source": [
    "day = \"05\"\n",
    "file = f\"/home/curt/Documents/AoC/2024_AoC/input{day}_test.txt\"\n",
    "file = f\"/home/curt/Downloads/input{day}\"\n",
    "\n",
    "with open(file, 'r') as f:\n",
    "    data = f.read().split(\"\\n\")\n",
    "\n",
    "rules, updates = [], []\n",
    "for l in data:\n",
    "    if '|' in l:\n",
    "        rules.append(tuple(int(n) for n in l.split('|')))\n",
    "    elif l:\n",
    "        updates.append(tuple(int(n) for n in l.split(',')))\n"
   ]
  },
  {
   "cell_type": "code",
   "execution_count": null,
   "metadata": {},
   "outputs": [],
   "source": [
    "correct = set(updates)\n",
    "for update in updates:\n",
    "    for rule in rules:\n",
    "        if (set(update)>=set(rule)) and (update.index(rule[0])>update.index(rule[1])):\n",
    "            correct.discard(update)\n",
    "\n",
    "sum(n[len(n)//2] for n in correct) in (143, 6951)"
   ]
  },
  {
   "cell_type": "markdown",
   "metadata": {},
   "source": [
    "# Part Two"
   ]
  },
  {
   "cell_type": "code",
   "execution_count": null,
   "metadata": {},
   "outputs": [],
   "source": [
    "corrected = list()\n",
    "for wupdate in set(updates)^correct:\n",
    "    update = [n for n in wupdate]\n",
    "    last = copy(update)\n",
    "    while ...:\n",
    "        for rule in rules:\n",
    "            if (set(update)>=set(rule)) and ((i0:=update.index(rule[0]))>(i1:=update.index(rule[1]))):\n",
    "                update[i0], update[i1] = update[i1], update[i0]\n",
    "        if update==last:\n",
    "            break\n",
    "        else:\n",
    "            last = copy(update)\n",
    "    corrected.append(update)\n",
    "\n",
    "sum(n[len(n)//2] for n in corrected)"
   ]
  }
 ],
 "metadata": {
  "kernelspec": {
   "display_name": "Python 3 (ipykernel)",
   "language": "python",
   "name": "python3"
  },
  "language_info": {
   "codemirror_mode": {
    "name": "ipython",
    "version": 3
   },
   "file_extension": ".py",
   "mimetype": "text/x-python",
   "name": "python",
   "nbconvert_exporter": "python",
   "pygments_lexer": "ipython3",
   "version": "3.12.7"
  },
  "vscode": {
   "interpreter": {
    "hash": "767d51c1340bd893661ea55ea3124f6de3c7a262a8b4abca0554b478b1e2ff90"
   }
  }
 },
 "nbformat": 4,
 "nbformat_minor": 4
}
