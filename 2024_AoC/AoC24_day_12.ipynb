{
 "cells": [
  {
   "cell_type": "code",
   "execution_count": 81,
   "metadata": {},
   "outputs": [],
   "source": [
    "import numpy as np\n",
    "\n",
    "#from dataclasses import dataclass, field"
   ]
  },
  {
   "cell_type": "code",
   "execution_count": 71,
   "metadata": {},
   "outputs": [
    {
     "data": {
      "text/plain": [
       "(4, 4)"
      ]
     },
     "execution_count": 71,
     "metadata": {},
     "output_type": "execute_result"
    }
   ],
   "source": [
    "day = \"12\"\n",
    "file = f\"/home/curt/Documents/AoC/2024_AoC/input{day}_test.txt\"\n",
    "file = f\"/home/curt/Documents/AoC/2024_AoC/input{day}_test_simple.txt\"\n",
    "#file = f\"/home/curt/Downloads/input{day}\"\n",
    "\n",
    "with open(file, 'r') as f:\n",
    "    data = f.read().split(\"\\n\")[:-1]\n",
    "\n",
    "garden = np.array([[p for p in l] for l in data])\n",
    "garden.shape"
   ]
  },
  {
   "cell_type": "code",
   "execution_count": 72,
   "metadata": {},
   "outputs": [
    {
     "name": "stdout",
     "output_type": "stream",
     "text": [
      "gotta catch'em all = True\n"
     ]
    }
   ],
   "source": [
    "def find_neighbors(pos: tuple)->list[tuple,]:\n",
    "    neighbors, dirs = list(), ((1,0), (0,1), (-1, 0), (0, -1))\n",
    "    for dir in dirs:\n",
    "        new_dir = (pos[0]+dir[0], pos[1]+dir[1])\n",
    "        if all(0<=n<garden.shape[0] for n in new_dir):\n",
    "            neighbors.append(new_dir)\n",
    "    return neighbors\n",
    "\n",
    "def find_region(plots: set[tuple,])->set[tuple,]:\n",
    "    plant, new_plots = garden[list(plots)[0]], set()\n",
    "    for plot in plots:\n",
    "        for neighbor in find_neighbors(plot):\n",
    "            if garden[neighbor]==plant and (neighbor not in plots):\n",
    "                new_plots.add(neighbor)\n",
    "    return plots|new_plots|find_region(plots|new_plots) if new_plots else plots\n",
    "\n",
    "\n",
    "plants = dict()\n",
    "\n",
    "for plot in np.ndindex(garden.shape):\n",
    "    if (regions:=plants.get(plant:=garden[plot])):\n",
    "        for region in regions:\n",
    "            if plot in region:\n",
    "                break\n",
    "        else:\n",
    "            plants[plant].append(find_region({(plot),}))\n",
    "    else:\n",
    "        plants[plant]=[find_region({(plot),}),]\n",
    "\n",
    "print(\"gotta catch'em all =\", garden.shape[0]*garden.shape[1] == sum(len(s) for r in plants.values() for s in r))"
   ]
  },
  {
   "cell_type": "code",
   "execution_count": 74,
   "metadata": {},
   "outputs": [
    {
     "data": {
      "text/plain": [
       "140"
      ]
     },
     "execution_count": 74,
     "metadata": {},
     "output_type": "execute_result"
    }
   ],
   "source": [
    "def find_bordering(plot: tuple, region)->list[tuple,]:\n",
    "    borders, dirs = list(), ((1,0), (0,1), (-1, 0), (0, -1))\n",
    "    for dir in dirs:\n",
    "        new = (plot[0]+dir[0], plot[1]+dir[1])\n",
    "        if new not in region:\n",
    "            borders.append(new)\n",
    "    return borders\n",
    "\n",
    "total_cost=0\n",
    "\n",
    "for region in [regions for plant in plants.values() for regions in plant]:\n",
    "    perimeter=[]\n",
    "    for plot in region:\n",
    "        perimeter+=find_bordering(plot, region)\n",
    "    total_cost+=len(perimeter)*len(region)\n",
    "\n",
    "\n",
    "total_cost"
   ]
  },
  {
   "cell_type": "markdown",
   "metadata": {},
   "source": [
    "# Part Two"
   ]
  },
  {
   "cell_type": "code",
   "execution_count": 82,
   "metadata": {},
   "outputs": [
    {
     "name": "stdout",
     "output_type": "stream",
     "text": [
      "[(1, 1), (-1, 1), (1, 2), (-1, 2), (1, 0), (-1, 0), (0, -1), (1, 3), (0, 4), (-1, 3)]\n",
      "[(3, 1), (2, 2), (0, 0), (1, -1), (1, 2), (0, 1), (3, 0), (2, -1)]\n",
      "[(2, 4), (1, 3), (1, 3), (0, 2), (1, 1), (4, 3), (3, 4), (3, 2), (3, 2), (2, 1)]\n",
      "[(2, 3), (1, 4), (0, 3), (1, 2)]\n",
      "[(4, 1), (2, 1), (4, 2), (3, 3), (2, 2), (4, 0), (2, 0), (3, -1)]\n"
     ]
    },
    {
     "data": {
      "text/plain": [
       "140"
      ]
     },
     "execution_count": 82,
     "metadata": {},
     "output_type": "execute_result"
    }
   ],
   "source": [
    "def find_bordering(plot: tuple, region)->list[tuple,]:\n",
    "    borders, dirs = list(), ((1,0), (0,1), (-1, 0), (0, -1))\n",
    "    for dir in dirs:\n",
    "        new = (plot[0]+dir[0], plot[1]+dir[1])\n",
    "        if new not in region:\n",
    "            borders.append(new)\n",
    "    return borders\n",
    "\n",
    "\n",
    "total_cost=0\n",
    "\n",
    "for region in [regions for plant in plants.values() for regions in plant]:\n",
    "    perimeter=[]\n",
    "    #print(f'{region}')\n",
    "    for plot in region:\n",
    "        perimeter+=find_bordering(plot, region)\n",
    "    print(perimeter)\n",
    "    total_cost+=len(perimeter)*len(region)\n",
    "    #print(f'{garden[plot]} {len(perimeter)=}   {len(region)=}')\n",
    "\n",
    "\n",
    "total_cost"
   ]
  }
 ],
 "metadata": {
  "kernelspec": {
   "display_name": "Python 3 (ipykernel)",
   "language": "python",
   "name": "python3"
  },
  "language_info": {
   "codemirror_mode": {
    "name": "ipython",
    "version": 3
   },
   "file_extension": ".py",
   "mimetype": "text/x-python",
   "name": "python",
   "nbconvert_exporter": "python",
   "pygments_lexer": "ipython3",
   "version": "3.12.7"
  },
  "vscode": {
   "interpreter": {
    "hash": "767d51c1340bd893661ea55ea3124f6de3c7a262a8b4abca0554b478b1e2ff90"
   }
  }
 },
 "nbformat": 4,
 "nbformat_minor": 4
}
